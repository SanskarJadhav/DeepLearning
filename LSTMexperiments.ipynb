{
  "nbformat": 4,
  "nbformat_minor": 0,
  "metadata": {
    "colab": {
      "provenance": [],
      "authorship_tag": "ABX9TyMFi0dJ3NLGJb0wSwPCEPHQ"
    },
    "kernelspec": {
      "name": "python3",
      "display_name": "Python 3"
    },
    "language_info": {
      "name": "python"
    }
  },
  "cells": [
    {
      "cell_type": "code",
      "execution_count": null,
      "metadata": {
        "id": "OSm6Jaus60Cd"
      },
      "outputs": [],
      "source": [
        "from numpy import array\n",
        "from tensorflow.keras.preprocessing.text import one_hot\n",
        "from tensorflow.keras.preprocessing.sequence import pad_sequences\n",
        "from tensorflow.keras.models import Sequential\n",
        "from tensorflow.keras.layers import Activation, Dropout, Dense\n",
        "from tensorflow.keras.layers import Flatten, LSTM, Conv1D, RNN, SimpleRNN\n",
        "from tensorflow.keras.layers import GlobalMaxPooling1D, Bidirectional \n",
        "from tensorflow.keras.models import Model\n",
        "from tensorflow.keras.layers import Embedding\n",
        "from sklearn.model_selection import train_test_split\n",
        "from tensorflow.keras.preprocessing.text import Tokenizer\n",
        "from tensorflow.keras.layers import Input\n",
        "from tensorflow.keras.layers import Concatenate\n",
        "from tensorflow.keras.layers import Bidirectional\n",
        "from sklearn import preprocessing\n",
        "from tensorflow.keras import regularizers\n",
        "from sklearn.metrics import mean_squared_error\n",
        "from math import sqrt\n",
        "import pandas as pd\n",
        "import numpy as np\n",
        "import re\n",
        "from tensorflow.keras.utils import plot_model\n",
        "import matplotlib.pyplot as plt\n",
        "np.random.seed(42)"
      ]
    },
    {
      "cell_type": "code",
      "source": [
        "from google.colab import files\n",
        "uploaded = files.upload()\n",
        "name = list(uploaded.keys())\n",
        "print(name[0])"
      ],
      "metadata": {
        "colab": {
          "base_uri": "https://localhost:8080/",
          "height": 90
        },
        "id": "xFHFHCVi61sC",
        "outputId": "d7837860-4b83-4a65-eee9-737b260081a0"
      },
      "execution_count": null,
      "outputs": [
        {
          "output_type": "display_data",
          "data": {
            "text/plain": [
              "<IPython.core.display.HTML object>"
            ],
            "text/html": [
              "\n",
              "     <input type=\"file\" id=\"files-ed34b1ed-6a10-41d8-bd19-3138c2d4a0fd\" name=\"files[]\" multiple disabled\n",
              "        style=\"border:none\" />\n",
              "     <output id=\"result-ed34b1ed-6a10-41d8-bd19-3138c2d4a0fd\">\n",
              "      Upload widget is only available when the cell has been executed in the\n",
              "      current browser session. Please rerun this cell to enable.\n",
              "      </output>\n",
              "      <script>// Copyright 2017 Google LLC\n",
              "//\n",
              "// Licensed under the Apache License, Version 2.0 (the \"License\");\n",
              "// you may not use this file except in compliance with the License.\n",
              "// You may obtain a copy of the License at\n",
              "//\n",
              "//      http://www.apache.org/licenses/LICENSE-2.0\n",
              "//\n",
              "// Unless required by applicable law or agreed to in writing, software\n",
              "// distributed under the License is distributed on an \"AS IS\" BASIS,\n",
              "// WITHOUT WARRANTIES OR CONDITIONS OF ANY KIND, either express or implied.\n",
              "// See the License for the specific language governing permissions and\n",
              "// limitations under the License.\n",
              "\n",
              "/**\n",
              " * @fileoverview Helpers for google.colab Python module.\n",
              " */\n",
              "(function(scope) {\n",
              "function span(text, styleAttributes = {}) {\n",
              "  const element = document.createElement('span');\n",
              "  element.textContent = text;\n",
              "  for (const key of Object.keys(styleAttributes)) {\n",
              "    element.style[key] = styleAttributes[key];\n",
              "  }\n",
              "  return element;\n",
              "}\n",
              "\n",
              "// Max number of bytes which will be uploaded at a time.\n",
              "const MAX_PAYLOAD_SIZE = 100 * 1024;\n",
              "\n",
              "function _uploadFiles(inputId, outputId) {\n",
              "  const steps = uploadFilesStep(inputId, outputId);\n",
              "  const outputElement = document.getElementById(outputId);\n",
              "  // Cache steps on the outputElement to make it available for the next call\n",
              "  // to uploadFilesContinue from Python.\n",
              "  outputElement.steps = steps;\n",
              "\n",
              "  return _uploadFilesContinue(outputId);\n",
              "}\n",
              "\n",
              "// This is roughly an async generator (not supported in the browser yet),\n",
              "// where there are multiple asynchronous steps and the Python side is going\n",
              "// to poll for completion of each step.\n",
              "// This uses a Promise to block the python side on completion of each step,\n",
              "// then passes the result of the previous step as the input to the next step.\n",
              "function _uploadFilesContinue(outputId) {\n",
              "  const outputElement = document.getElementById(outputId);\n",
              "  const steps = outputElement.steps;\n",
              "\n",
              "  const next = steps.next(outputElement.lastPromiseValue);\n",
              "  return Promise.resolve(next.value.promise).then((value) => {\n",
              "    // Cache the last promise value to make it available to the next\n",
              "    // step of the generator.\n",
              "    outputElement.lastPromiseValue = value;\n",
              "    return next.value.response;\n",
              "  });\n",
              "}\n",
              "\n",
              "/**\n",
              " * Generator function which is called between each async step of the upload\n",
              " * process.\n",
              " * @param {string} inputId Element ID of the input file picker element.\n",
              " * @param {string} outputId Element ID of the output display.\n",
              " * @return {!Iterable<!Object>} Iterable of next steps.\n",
              " */\n",
              "function* uploadFilesStep(inputId, outputId) {\n",
              "  const inputElement = document.getElementById(inputId);\n",
              "  inputElement.disabled = false;\n",
              "\n",
              "  const outputElement = document.getElementById(outputId);\n",
              "  outputElement.innerHTML = '';\n",
              "\n",
              "  const pickedPromise = new Promise((resolve) => {\n",
              "    inputElement.addEventListener('change', (e) => {\n",
              "      resolve(e.target.files);\n",
              "    });\n",
              "  });\n",
              "\n",
              "  const cancel = document.createElement('button');\n",
              "  inputElement.parentElement.appendChild(cancel);\n",
              "  cancel.textContent = 'Cancel upload';\n",
              "  const cancelPromise = new Promise((resolve) => {\n",
              "    cancel.onclick = () => {\n",
              "      resolve(null);\n",
              "    };\n",
              "  });\n",
              "\n",
              "  // Wait for the user to pick the files.\n",
              "  const files = yield {\n",
              "    promise: Promise.race([pickedPromise, cancelPromise]),\n",
              "    response: {\n",
              "      action: 'starting',\n",
              "    }\n",
              "  };\n",
              "\n",
              "  cancel.remove();\n",
              "\n",
              "  // Disable the input element since further picks are not allowed.\n",
              "  inputElement.disabled = true;\n",
              "\n",
              "  if (!files) {\n",
              "    return {\n",
              "      response: {\n",
              "        action: 'complete',\n",
              "      }\n",
              "    };\n",
              "  }\n",
              "\n",
              "  for (const file of files) {\n",
              "    const li = document.createElement('li');\n",
              "    li.append(span(file.name, {fontWeight: 'bold'}));\n",
              "    li.append(span(\n",
              "        `(${file.type || 'n/a'}) - ${file.size} bytes, ` +\n",
              "        `last modified: ${\n",
              "            file.lastModifiedDate ? file.lastModifiedDate.toLocaleDateString() :\n",
              "                                    'n/a'} - `));\n",
              "    const percent = span('0% done');\n",
              "    li.appendChild(percent);\n",
              "\n",
              "    outputElement.appendChild(li);\n",
              "\n",
              "    const fileDataPromise = new Promise((resolve) => {\n",
              "      const reader = new FileReader();\n",
              "      reader.onload = (e) => {\n",
              "        resolve(e.target.result);\n",
              "      };\n",
              "      reader.readAsArrayBuffer(file);\n",
              "    });\n",
              "    // Wait for the data to be ready.\n",
              "    let fileData = yield {\n",
              "      promise: fileDataPromise,\n",
              "      response: {\n",
              "        action: 'continue',\n",
              "      }\n",
              "    };\n",
              "\n",
              "    // Use a chunked sending to avoid message size limits. See b/62115660.\n",
              "    let position = 0;\n",
              "    do {\n",
              "      const length = Math.min(fileData.byteLength - position, MAX_PAYLOAD_SIZE);\n",
              "      const chunk = new Uint8Array(fileData, position, length);\n",
              "      position += length;\n",
              "\n",
              "      const base64 = btoa(String.fromCharCode.apply(null, chunk));\n",
              "      yield {\n",
              "        response: {\n",
              "          action: 'append',\n",
              "          file: file.name,\n",
              "          data: base64,\n",
              "        },\n",
              "      };\n",
              "\n",
              "      let percentDone = fileData.byteLength === 0 ?\n",
              "          100 :\n",
              "          Math.round((position / fileData.byteLength) * 100);\n",
              "      percent.textContent = `${percentDone}% done`;\n",
              "\n",
              "    } while (position < fileData.byteLength);\n",
              "  }\n",
              "\n",
              "  // All done.\n",
              "  yield {\n",
              "    response: {\n",
              "      action: 'complete',\n",
              "    }\n",
              "  };\n",
              "}\n",
              "\n",
              "scope.google = scope.google || {};\n",
              "scope.google.colab = scope.google.colab || {};\n",
              "scope.google.colab._files = {\n",
              "  _uploadFiles,\n",
              "  _uploadFilesContinue,\n",
              "};\n",
              "})(self);\n",
              "</script> "
            ]
          },
          "metadata": {}
        },
        {
          "output_type": "stream",
          "name": "stdout",
          "text": [
            "Saving 12-03-20231.csv to 12-03-20231.csv\n",
            "12-03-20231.csv\n"
          ]
        }
      ]
    },
    {
      "cell_type": "code",
      "source": [
        "df = pd.read_csv('/content/12-03-20231.csv')\n",
        "df.head()"
      ],
      "metadata": {
        "colab": {
          "base_uri": "https://localhost:8080/",
          "height": 206
        },
        "id": "DEtJ4ZLS7Qq6",
        "outputId": "0fdd4267-1b49-4ea3-e764-faa2831bfd48"
      },
      "execution_count": null,
      "outputs": [
        {
          "output_type": "execute_result",
          "data": {
            "text/plain": [
              "  Time (IST)   Latitude  Longitude  Course    kts           mph      meters  \\\n",
              "0        NaN  17.228065  78.415484    88.0  172.0  3.197442e-14  626.406637   \n",
              "1        NaN  17.228067  78.415525    88.0  172.0  1.980000e+01  626.406637   \n",
              "2        NaN  17.228071  78.415650    88.0  172.0  3.960000e+01  626.406637   \n",
              "3        NaN  17.228078  78.415857    88.0  172.0  5.940000e+01  626.406637   \n",
              "4        NaN  17.228087  78.416146    88.0  172.0  7.920000e+01  626.406637   \n",
              "\n",
              "   Rate Reporting Facility  Time Diff           m/s  Dist from lp  tilt  \n",
              "0   0.0                NaN        0.0  1.421085e-14           0.0   0.0  \n",
              "1   0.0                NaN        1.0  8.800000e+00           4.4   0.0  \n",
              "2   0.0                NaN        1.0  1.760000e+01          13.2   0.0  \n",
              "3   0.0                NaN        1.0  2.640000e+01          22.0   0.0  \n",
              "4   0.0                NaN        1.0  3.520000e+01          30.8   0.0  "
            ],
            "text/html": [
              "\n",
              "  <div id=\"df-83809ac1-617d-4072-8dcf-b642fb20839b\">\n",
              "    <div class=\"colab-df-container\">\n",
              "      <div>\n",
              "<style scoped>\n",
              "    .dataframe tbody tr th:only-of-type {\n",
              "        vertical-align: middle;\n",
              "    }\n",
              "\n",
              "    .dataframe tbody tr th {\n",
              "        vertical-align: top;\n",
              "    }\n",
              "\n",
              "    .dataframe thead th {\n",
              "        text-align: right;\n",
              "    }\n",
              "</style>\n",
              "<table border=\"1\" class=\"dataframe\">\n",
              "  <thead>\n",
              "    <tr style=\"text-align: right;\">\n",
              "      <th></th>\n",
              "      <th>Time (IST)</th>\n",
              "      <th>Latitude</th>\n",
              "      <th>Longitude</th>\n",
              "      <th>Course</th>\n",
              "      <th>kts</th>\n",
              "      <th>mph</th>\n",
              "      <th>meters</th>\n",
              "      <th>Rate</th>\n",
              "      <th>Reporting Facility</th>\n",
              "      <th>Time Diff</th>\n",
              "      <th>m/s</th>\n",
              "      <th>Dist from lp</th>\n",
              "      <th>tilt</th>\n",
              "    </tr>\n",
              "  </thead>\n",
              "  <tbody>\n",
              "    <tr>\n",
              "      <th>0</th>\n",
              "      <td>NaN</td>\n",
              "      <td>17.228065</td>\n",
              "      <td>78.415484</td>\n",
              "      <td>88.0</td>\n",
              "      <td>172.0</td>\n",
              "      <td>3.197442e-14</td>\n",
              "      <td>626.406637</td>\n",
              "      <td>0.0</td>\n",
              "      <td>NaN</td>\n",
              "      <td>0.0</td>\n",
              "      <td>1.421085e-14</td>\n",
              "      <td>0.0</td>\n",
              "      <td>0.0</td>\n",
              "    </tr>\n",
              "    <tr>\n",
              "      <th>1</th>\n",
              "      <td>NaN</td>\n",
              "      <td>17.228067</td>\n",
              "      <td>78.415525</td>\n",
              "      <td>88.0</td>\n",
              "      <td>172.0</td>\n",
              "      <td>1.980000e+01</td>\n",
              "      <td>626.406637</td>\n",
              "      <td>0.0</td>\n",
              "      <td>NaN</td>\n",
              "      <td>1.0</td>\n",
              "      <td>8.800000e+00</td>\n",
              "      <td>4.4</td>\n",
              "      <td>0.0</td>\n",
              "    </tr>\n",
              "    <tr>\n",
              "      <th>2</th>\n",
              "      <td>NaN</td>\n",
              "      <td>17.228071</td>\n",
              "      <td>78.415650</td>\n",
              "      <td>88.0</td>\n",
              "      <td>172.0</td>\n",
              "      <td>3.960000e+01</td>\n",
              "      <td>626.406637</td>\n",
              "      <td>0.0</td>\n",
              "      <td>NaN</td>\n",
              "      <td>1.0</td>\n",
              "      <td>1.760000e+01</td>\n",
              "      <td>13.2</td>\n",
              "      <td>0.0</td>\n",
              "    </tr>\n",
              "    <tr>\n",
              "      <th>3</th>\n",
              "      <td>NaN</td>\n",
              "      <td>17.228078</td>\n",
              "      <td>78.415857</td>\n",
              "      <td>88.0</td>\n",
              "      <td>172.0</td>\n",
              "      <td>5.940000e+01</td>\n",
              "      <td>626.406637</td>\n",
              "      <td>0.0</td>\n",
              "      <td>NaN</td>\n",
              "      <td>1.0</td>\n",
              "      <td>2.640000e+01</td>\n",
              "      <td>22.0</td>\n",
              "      <td>0.0</td>\n",
              "    </tr>\n",
              "    <tr>\n",
              "      <th>4</th>\n",
              "      <td>NaN</td>\n",
              "      <td>17.228087</td>\n",
              "      <td>78.416146</td>\n",
              "      <td>88.0</td>\n",
              "      <td>172.0</td>\n",
              "      <td>7.920000e+01</td>\n",
              "      <td>626.406637</td>\n",
              "      <td>0.0</td>\n",
              "      <td>NaN</td>\n",
              "      <td>1.0</td>\n",
              "      <td>3.520000e+01</td>\n",
              "      <td>30.8</td>\n",
              "      <td>0.0</td>\n",
              "    </tr>\n",
              "  </tbody>\n",
              "</table>\n",
              "</div>\n",
              "      <button class=\"colab-df-convert\" onclick=\"convertToInteractive('df-83809ac1-617d-4072-8dcf-b642fb20839b')\"\n",
              "              title=\"Convert this dataframe to an interactive table.\"\n",
              "              style=\"display:none;\">\n",
              "        \n",
              "  <svg xmlns=\"http://www.w3.org/2000/svg\" height=\"24px\"viewBox=\"0 0 24 24\"\n",
              "       width=\"24px\">\n",
              "    <path d=\"M0 0h24v24H0V0z\" fill=\"none\"/>\n",
              "    <path d=\"M18.56 5.44l.94 2.06.94-2.06 2.06-.94-2.06-.94-.94-2.06-.94 2.06-2.06.94zm-11 1L8.5 8.5l.94-2.06 2.06-.94-2.06-.94L8.5 2.5l-.94 2.06-2.06.94zm10 10l.94 2.06.94-2.06 2.06-.94-2.06-.94-.94-2.06-.94 2.06-2.06.94z\"/><path d=\"M17.41 7.96l-1.37-1.37c-.4-.4-.92-.59-1.43-.59-.52 0-1.04.2-1.43.59L10.3 9.45l-7.72 7.72c-.78.78-.78 2.05 0 2.83L4 21.41c.39.39.9.59 1.41.59.51 0 1.02-.2 1.41-.59l7.78-7.78 2.81-2.81c.8-.78.8-2.07 0-2.86zM5.41 20L4 18.59l7.72-7.72 1.47 1.35L5.41 20z\"/>\n",
              "  </svg>\n",
              "      </button>\n",
              "      \n",
              "  <style>\n",
              "    .colab-df-container {\n",
              "      display:flex;\n",
              "      flex-wrap:wrap;\n",
              "      gap: 12px;\n",
              "    }\n",
              "\n",
              "    .colab-df-convert {\n",
              "      background-color: #E8F0FE;\n",
              "      border: none;\n",
              "      border-radius: 50%;\n",
              "      cursor: pointer;\n",
              "      display: none;\n",
              "      fill: #1967D2;\n",
              "      height: 32px;\n",
              "      padding: 0 0 0 0;\n",
              "      width: 32px;\n",
              "    }\n",
              "\n",
              "    .colab-df-convert:hover {\n",
              "      background-color: #E2EBFA;\n",
              "      box-shadow: 0px 1px 2px rgba(60, 64, 67, 0.3), 0px 1px 3px 1px rgba(60, 64, 67, 0.15);\n",
              "      fill: #174EA6;\n",
              "    }\n",
              "\n",
              "    [theme=dark] .colab-df-convert {\n",
              "      background-color: #3B4455;\n",
              "      fill: #D2E3FC;\n",
              "    }\n",
              "\n",
              "    [theme=dark] .colab-df-convert:hover {\n",
              "      background-color: #434B5C;\n",
              "      box-shadow: 0px 1px 3px 1px rgba(0, 0, 0, 0.15);\n",
              "      filter: drop-shadow(0px 1px 2px rgba(0, 0, 0, 0.3));\n",
              "      fill: #FFFFFF;\n",
              "    }\n",
              "  </style>\n",
              "\n",
              "      <script>\n",
              "        const buttonEl =\n",
              "          document.querySelector('#df-83809ac1-617d-4072-8dcf-b642fb20839b button.colab-df-convert');\n",
              "        buttonEl.style.display =\n",
              "          google.colab.kernel.accessAllowed ? 'block' : 'none';\n",
              "\n",
              "        async function convertToInteractive(key) {\n",
              "          const element = document.querySelector('#df-83809ac1-617d-4072-8dcf-b642fb20839b');\n",
              "          const dataTable =\n",
              "            await google.colab.kernel.invokeFunction('convertToInteractive',\n",
              "                                                     [key], {});\n",
              "          if (!dataTable) return;\n",
              "\n",
              "          const docLinkHtml = 'Like what you see? Visit the ' +\n",
              "            '<a target=\"_blank\" href=https://colab.research.google.com/notebooks/data_table.ipynb>data table notebook</a>'\n",
              "            + ' to learn more about interactive tables.';\n",
              "          element.innerHTML = '';\n",
              "          dataTable['output_type'] = 'display_data';\n",
              "          await google.colab.output.renderOutput(dataTable, element);\n",
              "          const docLink = document.createElement('div');\n",
              "          docLink.innerHTML = docLinkHtml;\n",
              "          element.appendChild(docLink);\n",
              "        }\n",
              "      </script>\n",
              "    </div>\n",
              "  </div>\n",
              "  "
            ]
          },
          "metadata": {},
          "execution_count": 4
        }
      ]
    },
    {
      "cell_type": "code",
      "source": [
        "df.fillna(value='', inplace=True)"
      ],
      "metadata": {
        "id": "7luGEncDDJ4F"
      },
      "execution_count": null,
      "outputs": []
    },
    {
      "cell_type": "code",
      "source": [
        "data=np.array(df)\n",
        "print(data.shape)"
      ],
      "metadata": {
        "colab": {
          "base_uri": "https://localhost:8080/"
        },
        "id": "RKJE_yu_7ZnX",
        "outputId": "e3b9f52e-442c-459c-9026-5b4dd4834b7b"
      },
      "execution_count": null,
      "outputs": [
        {
          "output_type": "stream",
          "name": "stdout",
          "text": [
            "(242, 13)\n"
          ]
        }
      ]
    },
    {
      "cell_type": "code",
      "source": [
        "dataX = np.array(df[['Course','kts','mph','meters','Rate','m/s','Dist from lp','tilt']])\n",
        "dataY = data[:,1:3]\n",
        "\n",
        "min_max_scaler = preprocessing.MinMaxScaler()\n",
        "dataX = min_max_scaler.fit_transform(dataX)"
      ],
      "metadata": {
        "id": "ky3vAjpD8sEC"
      },
      "execution_count": null,
      "outputs": []
    },
    {
      "cell_type": "code",
      "source": [
        "split = 160\n",
        "dataXt = dataX[:split]\n",
        "dataYt = dataY[:split]\n",
        "dataXv = dataX[split:]\n",
        "dataYv = dataY[split:]\n",
        "\n",
        "input_dim = dataXt.shape[1]\n",
        "\n",
        "print(\"input_dim:\", input_dim)\n",
        "print(\"Training \",dataXt.shape[0])\n",
        "print(\"Testing\",dataXv.shape[0])"
      ],
      "metadata": {
        "colab": {
          "base_uri": "https://localhost:8080/"
        },
        "id": "GxWuMBBW9wzJ",
        "outputId": "4e2bd362-6f06-40db-afef-7ea190411a47"
      },
      "execution_count": null,
      "outputs": [
        {
          "output_type": "stream",
          "name": "stdout",
          "text": [
            "input_dim: 8\n",
            "Training  160\n",
            "Testing 82\n"
          ]
        }
      ]
    },
    {
      "cell_type": "code",
      "source": [
        "timestep = 2\n",
        "Xphithetapsi = dataXt\n",
        "dataXt = np.asarray(dataXt).astype('float32').reshape(split//timestep, timestep, input_dim)\n",
        "dataYt = np.asarray(dataYt[0::timestep]).astype('float32')\n",
        "\n",
        "dataXv = array(dataXv).reshape(dataXv.shape[0]//timestep, timestep, input_dim)\n",
        "dataYv = array(dataYv[0::timestep])"
      ],
      "metadata": {
        "id": "5gFsB6tR-bLw"
      },
      "execution_count": null,
      "outputs": []
    },
    {
      "cell_type": "code",
      "source": [
        "inputs = Input(name='inputs',shape=[timestep,input_dim])\n",
        "layer = LSTM(41, return_sequences=True)(inputs)\n",
        "layer = Dropout(0.25)(layer)\n",
        "layer = LSTM(41)(layer)\n",
        "outputs = Dense(2, activation='linear')(layer)\n",
        "\n",
        "orientationModel = Model(inputs=[inputs],outputs=[outputs])\n",
        "\n",
        "# Compile\n",
        "orientationModel.compile(optimizer='RMSprop', loss='mean_squared_error',metrics = ['accuracy'])\n",
        "orientationModel.summary()\n",
        "\n",
        "history = orientationModel.fit(dataXt, dataYt,\n",
        "                       epochs=20,\n",
        "                       verbose=0,\n",
        "                       batch_size=50)\n",
        "\n",
        "print('Model Training done')"
      ],
      "metadata": {
        "colab": {
          "base_uri": "https://localhost:8080/"
        },
        "id": "JtviuNYM-fht",
        "outputId": "89eb2031-1ab6-4fa2-8594-108d86cd84a0"
      },
      "execution_count": null,
      "outputs": [
        {
          "output_type": "stream",
          "name": "stdout",
          "text": [
            "Model: \"model_6\"\n",
            "_________________________________________________________________\n",
            " Layer (type)                Output Shape              Param #   \n",
            "=================================================================\n",
            " inputs (InputLayer)         [(None, 2, 8)]            0         \n",
            "                                                                 \n",
            " lstm_12 (LSTM)              (None, 2, 41)             8200      \n",
            "                                                                 \n",
            " dropout_6 (Dropout)         (None, 2, 41)             0         \n",
            "                                                                 \n",
            " lstm_13 (LSTM)              (None, 41)                13612     \n",
            "                                                                 \n",
            " dense_6 (Dense)             (None, 2)                 84        \n",
            "                                                                 \n",
            "=================================================================\n",
            "Total params: 21,896\n",
            "Trainable params: 21,896\n",
            "Non-trainable params: 0\n",
            "_________________________________________________________________\n",
            "Model Training done\n"
          ]
        }
      ]
    },
    {
      "cell_type": "code",
      "source": [
        "\n",
        "test_output = orientationModel.predict(dataXv)\n",
        "test_output = array(test_output)\n",
        "\n",
        "results = np.array(test_output)\n",
        "results = results.reshape(dataXv.shape[0],2)\n",
        "print(results.shape)"
      ],
      "metadata": {
        "colab": {
          "base_uri": "https://localhost:8080/"
        },
        "id": "7UKkbZfr-iyQ",
        "outputId": "fad6493f-a53e-45ca-e7c3-fd197df1d0e5"
      },
      "execution_count": null,
      "outputs": [
        {
          "output_type": "stream",
          "name": "stderr",
          "text": [
            "WARNING:tensorflow:5 out of the last 11 calls to <function Model.make_predict_function.<locals>.predict_function at 0x7fbc4b597ee0> triggered tf.function retracing. Tracing is expensive and the excessive number of tracings could be due to (1) creating @tf.function repeatedly in a loop, (2) passing tensors with different shapes, (3) passing Python objects instead of tensors. For (1), please define your @tf.function outside of the loop. For (2), @tf.function has reduce_retracing=True option that can avoid unnecessary retracing. For (3), please refer to https://www.tensorflow.org/guide/function#controlling_retracing and https://www.tensorflow.org/api_docs/python/tf/function for  more details.\n"
          ]
        },
        {
          "output_type": "stream",
          "name": "stdout",
          "text": [
            "2/2 [==============================] - 1s 6ms/step\n",
            "(41, 2)\n"
          ]
        }
      ]
    },
    {
      "cell_type": "code",
      "source": [
        "rmselat = sqrt(mean_squared_error(dataYv[:,0], results[:,0]))\n",
        "print(\"RMSE lat\",rmselat)\n",
        "\n",
        "rmselong = sqrt(mean_squared_error(dataYv[:,1], results[:,1]))\n",
        "print(\"RMSE long\",rmselong)\n",
        "\n",
        "\n",
        "print(rmselat,rmselong)\n",
        "\n",
        "plt.plot(dataYv[:,0])\n",
        "plt.plot(results[:,0])\n",
        "plt.title('Latitude')\n",
        "plt.xlabel('samples')\n",
        "plt.ylabel('Degrees')\n",
        "plt.legend(['Reference', 'Predicted'], loc = 'upper right')\n",
        "plt.show()\n",
        "\n",
        "plt.plot(dataYv[:,1])\n",
        "plt.plot(results[:,1])\n",
        "plt.title('Longitude')\n",
        "plt.xlabel('samples')\n",
        "plt.ylabel('Degrees')\n",
        "plt.legend(['Reference', 'Predicted'], loc = 'upper right')\n",
        "plt.show()"
      ],
      "metadata": {
        "colab": {
          "base_uri": "https://localhost:8080/",
          "height": 625
        },
        "id": "FgoRXY8T_ddx",
        "outputId": "093bf387-ba7b-4842-f308-65f7c72d7310"
      },
      "execution_count": null,
      "outputs": [
        {
          "output_type": "stream",
          "name": "stdout",
          "text": [
            "RMSE lat 17.210218258115898\n",
            "RMSE long 68.56499770719039\n",
            "17.210218258115898 68.56499770719039\n"
          ]
        },
        {
          "output_type": "display_data",
          "data": {
            "text/plain": [
              "<Figure size 432x288 with 1 Axes>"
            ],
            "image/png": "[encoded data removed]"
          },
          "metadata": {
            "needs_background": "light"
          }
        },
        {
          "output_type": "display_data",
          "data": {
            "text/plain": [
              "<Figure size 432x288 with 1 Axes>"
            ],
            "image/png": "[encoded data removed]"
          },
          "metadata": {
            "needs_background": "light"
          }
        }
      ]
    },
    {
      "cell_type": "code",
      "source": [
        "from numpy import array\n",
        "from numpy import hstack\n",
        "from keras.models import Sequential\n",
        "from keras.layers import LSTM\n",
        "from keras.layers import Dense\n",
        " \n",
        "# split a multivariate sequence into samples\n",
        "def split_sequences(sequences, n_steps):\n",
        " X, y = list(), list()\n",
        " for i in range(len(sequences)):\n",
        " # find the end of this pattern\n",
        "  end_ix = i + n_steps\n",
        "  # check if we are beyond the dataset\n",
        "  if end_ix > len(sequences)-1:\n",
        "    break\n",
        "  # gather input and output parts of the pattern\n",
        "  seq_x, seq_y = sequences[i:end_ix, :], sequences[end_ix, :]\n",
        "  X.append(seq_x)\n",
        "  y.append(seq_y)\n",
        "  return array(X), array(y)\n",
        " \n",
        "# define input sequence\n",
        "in_seq1 = array(df['Latitude'][:160])\n",
        "in_seq2 = array(df['Longitude'][:160])\n",
        "# convert to [rows, columns] structure\n",
        "in_seq1 = in_seq1.reshape((len(in_seq1), 1))\n",
        "in_seq2 = in_seq2.reshape((len(in_seq2), 1))\n",
        "# horizontally stack columns\n",
        "dataset = hstack((in_seq1, in_seq2))\n",
        "# choose a number of time steps\n",
        "n_steps = 10\n",
        "# convert into input/output\n",
        "X, y = split_sequences(dataset, n_steps)\n",
        "# the dataset knows the number of features, e.g. 2\n",
        "n_features = X.shape[2]\n",
        "# define model\n",
        "model = Sequential()\n",
        "model.add(LSTM(100, activation='relu', return_sequences=True, input_shape=(n_steps, n_features)))\n",
        "model.add(LSTM(100, activation='relu'))\n",
        "model.add(Dense(n_features))\n",
        "model.compile(optimizer='adam', loss='mse')\n",
        "# fit model\n",
        "model.fit(X, y, epochs=400, verbose=0)\n",
        "# demonstrate prediction\n",
        "x_input = array([[df['Latitude'][160], df['Longitude'][160]], [df['Latitude'][161], df['Longitude'][161]],\n",
        "                 [df['Latitude'][162], df['Longitude'][162]],[df['Latitude'][163], df['Longitude'][163]],\n",
        "                 [df['Latitude'][164], df['Longitude'][164]],[df['Latitude'][165], df['Longitude'][165]],\n",
        "                 [df['Latitude'][166], df['Longitude'][166]],[df['Latitude'][167], df['Longitude'][167]],\n",
        "                 [df['Latitude'][168], df['Longitude'][168]],[df['Latitude'][169], df['Longitude'][169]]]).astype('float32')\n",
        "x_input = array(x_input).reshape((1, n_steps, n_features))\n",
        "yhat = model.predict(x_input, verbose=0)\n",
        "print(yhat)"
      ],
      "metadata": {
        "colab": {
          "base_uri": "https://localhost:8080/"
        },
        "id": "5vdaNkMv_49y",
        "outputId": "47f382f2-05f0-4fd0-ea79-cf3fdb71a721"
      },
      "execution_count": null,
      "outputs": [
        {
          "output_type": "stream",
          "name": "stdout",
          "text": [
            "[[14.884116 72.438675]]\n"
          ]
        }
      ]
    },
    {
      "cell_type": "code",
      "source": [
        "print([df['Latitude'][170], df['Longitude'][170]])"
      ],
      "metadata": {
        "colab": {
          "base_uri": "https://localhost:8080/"
        },
        "id": "wbZ4BOXiFbdp",
        "outputId": "57ee4b6f-c142-474d-c398-37d8c8408423"
      },
      "execution_count": null,
      "outputs": [
        {
          "output_type": "stream",
          "name": "stdout",
          "text": [
            "[18.6506, 73.2583]\n"
          ]
        }
      ]
    },
    {
      "cell_type": "code",
      "source": [
        "print([df['Latitude'][161], df['Longitude'][161]])"
      ],
      "metadata": {
        "colab": {
          "base_uri": "https://localhost:8080/"
        },
        "id": "RRI67JuDH17l",
        "outputId": "cd0c8e67-65c3-47fe-ba04-418724db2838"
      },
      "execution_count": null,
      "outputs": [
        {
          "output_type": "stream",
          "name": "stdout",
          "text": [
            "[18.3868, 73.2836]\n"
          ]
        }
      ]
    },
    {
      "cell_type": "markdown",
      "source": [
        "## Final Implementation"
      ],
      "metadata": {
        "id": "pugnyMj35c5z"
      }
    },
    {
      "cell_type": "code",
      "source": [
        "import numpy as np\n",
        "import matplotlib.pyplot as plt\n",
        "import pandas as pd\n",
        "pd.set_option('display.float_format', lambda x: '%.4f' % x)\n",
        "import seaborn as sns\n",
        "sns.set_context(\"paper\", font_scale=1.3)\n",
        "sns.set_style('white')\n",
        "import warnings\n",
        "warnings.filterwarnings('ignore')\n",
        "from time import time\n",
        "import matplotlib.ticker as tkr\n",
        "from scipy import stats\n",
        "from statsmodels.tsa.stattools import adfuller\n",
        "from sklearn import preprocessing\n",
        "from statsmodels.tsa.stattools import pacf\n",
        "%matplotlib inline\n",
        "import math\n",
        "import keras\n",
        "from keras.models import Sequential\n",
        "from keras.layers import Dense\n",
        "from keras.layers import LSTM\n",
        "from keras.layers import Dropout\n",
        "from keras.layers import *\n",
        "from sklearn.preprocessing import MinMaxScaler\n",
        "from sklearn.metrics import mean_squared_error\n",
        "from sklearn.metrics import mean_absolute_error\n",
        "from keras.callbacks import EarlyStopping"
      ],
      "metadata": {
        "id": "-f5id0ceH8fV"
      },
      "execution_count": 74,
      "outputs": []
    },
    {
      "cell_type": "code",
      "source": [
        "from glob import glob\n",
        "csvs = glob('/content/*.csv')\n",
        "csv_list = [csv[:-5] for csv in csvs]\n",
        "csv_list.sort()"
      ],
      "metadata": {
        "id": "dGIGYuJriPap"
      },
      "execution_count": 163,
      "outputs": []
    },
    {
      "cell_type": "code",
      "source": [
        "datelist = []\n",
        "for i in csv_list:\n",
        "  daynum = i[9:11]\n",
        "  datelist.append(int(daynum))\n",
        "print(datelist)"
      ],
      "metadata": {
        "id": "dqJtC9QwPEFp",
        "colab": {
          "base_uri": "https://localhost:8080/"
        },
        "outputId": "ce46f3a1-7091-489f-a48a-b855737b2a42"
      },
      "execution_count": 164,
      "outputs": [
        {
          "output_type": "stream",
          "name": "stdout",
          "text": [
            "[12, 13, 14, 15, 16]\n"
          ]
        }
      ]
    },
    {
      "cell_type": "code",
      "source": [
        "dataframelist = []\n",
        "for i in csv_list:\n",
        "  df_new = pd.read_csv(i+'1.csv')\n",
        "  df_new = df_new.dropna(subset=['Time (IST)']).reset_index(drop=True)\n",
        "  daylist = np.array(df_new['Time (IST)'])\n",
        "  strday = daylist[0][:3]\n",
        "  df_new['date_time'] = ''\n",
        "  for j in range(df_new.shape[0]):\n",
        "    day2 = daylist[j][:3]\n",
        "    if(strday==day2):\n",
        "      df_new['date_time'][j] = i[9:] + daylist[j][3:]\n",
        "    else:\n",
        "      df_new['date_time'][j] = str(int(i[9:11]) + 1) + i[11:] + daylist[j][3:]\n",
        "  dataframelist.append(df_new)"
      ],
      "metadata": {
        "id": "9zi-fUnfUGPM"
      },
      "execution_count": 165,
      "outputs": []
    },
    {
      "cell_type": "code",
      "source": [
        "for df in dataframelist:\n",
        "  df['date_time'] = pd.to_datetime(df['date_time'], format='%d-%m-%Y %H:%M:%S')\n",
        "  df['day'] = df['date_time'].apply(lambda x: x.day)\n",
        "  df['hour'] = df['date_time'].apply(lambda x: x.hour)\n",
        "  df['minute'] = df['date_time'].apply(lambda x: x.minute)\n",
        "  df['second'] = df['date_time'].apply(lambda x: x.second)"
      ],
      "metadata": {
        "id": "6TfUTM5_IHXC"
      },
      "execution_count": 171,
      "outputs": []
    },
    {
      "cell_type": "markdown",
      "source": [
        "## For Latitude"
      ],
      "metadata": {
        "id": "e00xr5ZElz8v"
      }
    },
    {
      "cell_type": "code",
      "source": [
        "df_update = dataframelist[0].loc[:,['date_time','Latitude', 'day', 'hour','minute','second']]\n",
        "for df in dataframelist[1:]:\n",
        "  df_lat=df.loc[:,['date_time','Latitude', 'day', 'hour','minute','second']]\n",
        "  df_update = pd.concat([df_update, df_lat], axis=0)\n",
        "df_update"
      ],
      "metadata": {
        "colab": {
          "base_uri": "https://localhost:8080/",
          "height": 423
        },
        "id": "YwdPo3O525MG",
        "outputId": "4b9b5939-8987-4143-cf5e-b9e9a9773ce5"
      },
      "execution_count": 172,
      "outputs": [
        {
          "output_type": "execute_result",
          "data": {
            "text/plain": [
              "              date_time  Latitude  day  hour  minute  second\n",
              "0   2023-03-12 22:47:37   17.2295   12    22      47      37\n",
              "1   2023-03-12 22:48:07   17.2297   12    22      48       7\n",
              "2   2023-03-12 22:48:27   17.2313   12    22      48      27\n",
              "3   2023-03-12 22:48:46   17.2436   12    22      48      46\n",
              "4   2023-03-12 22:49:06   17.2665   12    22      49       6\n",
              "..                  ...       ...  ...   ...     ...     ...\n",
              "200 2023-03-17 00:08:02   19.0898   17     0       8       2\n",
              "201 2023-03-17 00:08:12   19.0898   17     0       8      12\n",
              "202 2023-03-17 00:09:12   19.0892   17     0       9      12\n",
              "203 2023-03-17 00:09:28   19.0890   17     0       9      28\n",
              "204 2023-03-17 00:09:44   19.0888   17     0       9      44\n",
              "\n",
              "[820 rows x 6 columns]"
            ],
            "text/html": [
              "\n",
              "  <div id=\"df-b9726655-181b-4f2e-b3af-767bef8e0f64\">\n",
              "    <div class=\"colab-df-container\">\n",
              "      <div>\n",
              "<style scoped>\n",
              "    .dataframe tbody tr th:only-of-type {\n",
              "        vertical-align: middle;\n",
              "    }\n",
              "\n",
              "    .dataframe tbody tr th {\n",
              "        vertical-align: top;\n",
              "    }\n",
              "\n",
              "    .dataframe thead th {\n",
              "        text-align: right;\n",
              "    }\n",
              "</style>\n",
              "<table border=\"1\" class=\"dataframe\">\n",
              "  <thead>\n",
              "    <tr style=\"text-align: right;\">\n",
              "      <th></th>\n",
              "      <th>date_time</th>\n",
              "      <th>Latitude</th>\n",
              "      <th>day</th>\n",
              "      <th>hour</th>\n",
              "      <th>minute</th>\n",
              "      <th>second</th>\n",
              "    </tr>\n",
              "  </thead>\n",
              "  <tbody>\n",
              "    <tr>\n",
              "      <th>0</th>\n",
              "      <td>2023-03-12 22:47:37</td>\n",
              "      <td>17.2295</td>\n",
              "      <td>12</td>\n",
              "      <td>22</td>\n",
              "      <td>47</td>\n",
              "      <td>37</td>\n",
              "    </tr>\n",
              "    <tr>\n",
              "      <th>1</th>\n",
              "      <td>2023-03-12 22:48:07</td>\n",
              "      <td>17.2297</td>\n",
              "      <td>12</td>\n",
              "      <td>22</td>\n",
              "      <td>48</td>\n",
              "      <td>7</td>\n",
              "    </tr>\n",
              "    <tr>\n",
              "      <th>2</th>\n",
              "      <td>2023-03-12 22:48:27</td>\n",
              "      <td>17.2313</td>\n",
              "      <td>12</td>\n",
              "      <td>22</td>\n",
              "      <td>48</td>\n",
              "      <td>27</td>\n",
              "    </tr>\n",
              "    <tr>\n",
              "      <th>3</th>\n",
              "      <td>2023-03-12 22:48:46</td>\n",
              "      <td>17.2436</td>\n",
              "      <td>12</td>\n",
              "      <td>22</td>\n",
              "      <td>48</td>\n",
              "      <td>46</td>\n",
              "    </tr>\n",
              "    <tr>\n",
              "      <th>4</th>\n",
              "      <td>2023-03-12 22:49:06</td>\n",
              "      <td>17.2665</td>\n",
              "      <td>12</td>\n",
              "      <td>22</td>\n",
              "      <td>49</td>\n",
              "      <td>6</td>\n",
              "    </tr>\n",
              "    <tr>\n",
              "      <th>...</th>\n",
              "      <td>...</td>\n",
              "      <td>...</td>\n",
              "      <td>...</td>\n",
              "      <td>...</td>\n",
              "      <td>...</td>\n",
              "      <td>...</td>\n",
              "    </tr>\n",
              "    <tr>\n",
              "      <th>200</th>\n",
              "      <td>2023-03-17 00:08:02</td>\n",
              "      <td>19.0898</td>\n",
              "      <td>17</td>\n",
              "      <td>0</td>\n",
              "      <td>8</td>\n",
              "      <td>2</td>\n",
              "    </tr>\n",
              "    <tr>\n",
              "      <th>201</th>\n",
              "      <td>2023-03-17 00:08:12</td>\n",
              "      <td>19.0898</td>\n",
              "      <td>17</td>\n",
              "      <td>0</td>\n",
              "      <td>8</td>\n",
              "      <td>12</td>\n",
              "    </tr>\n",
              "    <tr>\n",
              "      <th>202</th>\n",
              "      <td>2023-03-17 00:09:12</td>\n",
              "      <td>19.0892</td>\n",
              "      <td>17</td>\n",
              "      <td>0</td>\n",
              "      <td>9</td>\n",
              "      <td>12</td>\n",
              "    </tr>\n",
              "    <tr>\n",
              "      <th>203</th>\n",
              "      <td>2023-03-17 00:09:28</td>\n",
              "      <td>19.0890</td>\n",
              "      <td>17</td>\n",
              "      <td>0</td>\n",
              "      <td>9</td>\n",
              "      <td>28</td>\n",
              "    </tr>\n",
              "    <tr>\n",
              "      <th>204</th>\n",
              "      <td>2023-03-17 00:09:44</td>\n",
              "      <td>19.0888</td>\n",
              "      <td>17</td>\n",
              "      <td>0</td>\n",
              "      <td>9</td>\n",
              "      <td>44</td>\n",
              "    </tr>\n",
              "  </tbody>\n",
              "</table>\n",
              "<p>820 rows × 6 columns</p>\n",
              "</div>\n",
              "      <button class=\"colab-df-convert\" onclick=\"convertToInteractive('df-b9726655-181b-4f2e-b3af-767bef8e0f64')\"\n",
              "              title=\"Convert this dataframe to an interactive table.\"\n",
              "              style=\"display:none;\">\n",
              "        \n",
              "  <svg xmlns=\"http://www.w3.org/2000/svg\" height=\"24px\"viewBox=\"0 0 24 24\"\n",
              "       width=\"24px\">\n",
              "    <path d=\"M0 0h24v24H0V0z\" fill=\"none\"/>\n",
              "    <path d=\"M18.56 5.44l.94 2.06.94-2.06 2.06-.94-2.06-.94-.94-2.06-.94 2.06-2.06.94zm-11 1L8.5 8.5l.94-2.06 2.06-.94-2.06-.94L8.5 2.5l-.94 2.06-2.06.94zm10 10l.94 2.06.94-2.06 2.06-.94-2.06-.94-.94-2.06-.94 2.06-2.06.94z\"/><path d=\"M17.41 7.96l-1.37-1.37c-.4-.4-.92-.59-1.43-.59-.52 0-1.04.2-1.43.59L10.3 9.45l-7.72 7.72c-.78.78-.78 2.05 0 2.83L4 21.41c.39.39.9.59 1.41.59.51 0 1.02-.2 1.41-.59l7.78-7.78 2.81-2.81c.8-.78.8-2.07 0-2.86zM5.41 20L4 18.59l7.72-7.72 1.47 1.35L5.41 20z\"/>\n",
              "  </svg>\n",
              "      </button>\n",
              "      \n",
              "  <style>\n",
              "    .colab-df-container {\n",
              "      display:flex;\n",
              "      flex-wrap:wrap;\n",
              "      gap: 12px;\n",
              "    }\n",
              "\n",
              "    .colab-df-convert {\n",
              "      background-color: #E8F0FE;\n",
              "      border: none;\n",
              "      border-radius: 50%;\n",
              "      cursor: pointer;\n",
              "      display: none;\n",
              "      fill: #1967D2;\n",
              "      height: 32px;\n",
              "      padding: 0 0 0 0;\n",
              "      width: 32px;\n",
              "    }\n",
              "\n",
              "    .colab-df-convert:hover {\n",
              "      background-color: #E2EBFA;\n",
              "      box-shadow: 0px 1px 2px rgba(60, 64, 67, 0.3), 0px 1px 3px 1px rgba(60, 64, 67, 0.15);\n",
              "      fill: #174EA6;\n",
              "    }\n",
              "\n",
              "    [theme=dark] .colab-df-convert {\n",
              "      background-color: #3B4455;\n",
              "      fill: #D2E3FC;\n",
              "    }\n",
              "\n",
              "    [theme=dark] .colab-df-convert:hover {\n",
              "      background-color: #434B5C;\n",
              "      box-shadow: 0px 1px 3px 1px rgba(0, 0, 0, 0.15);\n",
              "      filter: drop-shadow(0px 1px 2px rgba(0, 0, 0, 0.3));\n",
              "      fill: #FFFFFF;\n",
              "    }\n",
              "  </style>\n",
              "\n",
              "      <script>\n",
              "        const buttonEl =\n",
              "          document.querySelector('#df-b9726655-181b-4f2e-b3af-767bef8e0f64 button.colab-df-convert');\n",
              "        buttonEl.style.display =\n",
              "          google.colab.kernel.accessAllowed ? 'block' : 'none';\n",
              "\n",
              "        async function convertToInteractive(key) {\n",
              "          const element = document.querySelector('#df-b9726655-181b-4f2e-b3af-767bef8e0f64');\n",
              "          const dataTable =\n",
              "            await google.colab.kernel.invokeFunction('convertToInteractive',\n",
              "                                                     [key], {});\n",
              "          if (!dataTable) return;\n",
              "\n",
              "          const docLinkHtml = 'Like what you see? Visit the ' +\n",
              "            '<a target=\"_blank\" href=https://colab.research.google.com/notebooks/data_table.ipynb>data table notebook</a>'\n",
              "            + ' to learn more about interactive tables.';\n",
              "          element.innerHTML = '';\n",
              "          dataTable['output_type'] = 'display_data';\n",
              "          await google.colab.output.renderOutput(dataTable, element);\n",
              "          const docLink = document.createElement('div');\n",
              "          docLink.innerHTML = docLinkHtml;\n",
              "          element.appendChild(docLink);\n",
              "        }\n",
              "      </script>\n",
              "    </div>\n",
              "  </div>\n",
              "  "
            ]
          },
          "metadata": {},
          "execution_count": 172
        }
      ]
    },
    {
      "cell_type": "code",
      "source": [
        "stat, p = stats.normaltest(df_update.Latitude)\n",
        "print('Statistics=%.3f, p=%.3f' % (stat, p))\n",
        "alpha = 0.05\n",
        "if p > alpha:\n",
        "    print('Data looks Gaussian (fail to reject H0)')\n",
        "else:\n",
        "    print('Data does not look Gaussian (reject H0)')"
      ],
      "metadata": {
        "colab": {
          "base_uri": "https://localhost:8080/"
        },
        "id": "SFfFOOZR5Q5d",
        "outputId": "ac05575e-fcb9-4a06-9f8b-2626099df6dd"
      },
      "execution_count": 173,
      "outputs": [
        {
          "output_type": "stream",
          "name": "stdout",
          "text": [
            "Statistics=5080.954, p=0.000\n",
            "Data does not look Gaussian (reject H0)\n"
          ]
        }
      ]
    },
    {
      "cell_type": "code",
      "source": [
        "sns.distplot(df_update.Latitude);\n",
        "print( 'Kurtosis of normal distribution: {}'.format(stats.kurtosis(df_update.Latitude)))\n",
        "print( 'Skewness of normal distribution: {}'.format(stats.skew(df_update.Latitude)))"
      ],
      "metadata": {
        "colab": {
          "base_uri": "https://localhost:8080/",
          "height": 320
        },
        "id": "3DwKnhSrMqDy",
        "outputId": "da998315-fa57-4098-d971-551151fafa31"
      },
      "execution_count": 174,
      "outputs": [
        {
          "output_type": "stream",
          "name": "stdout",
          "text": [
            "Kurtosis of normal distribution: -1.2651493306404284\n",
            "Skewness of normal distribution: 0.2258425477058519\n"
          ]
        },
        {
          "output_type": "display_data",
          "data": {
            "text/plain": [
              "<Figure size 432x288 with 1 Axes>"
            ],
            "image/png": "[encoded data removed]"
          },
          "metadata": {
            "needs_background": "light"
          }
        }
      ]
    },
    {
      "cell_type": "code",
      "source": [
        "dfspec=df_update.loc[:,['date_time','Latitude']]\n",
        "dfspec.set_index('date_time',inplace=True)\n",
        "dfspec.plot(figsize=(12,5))\n",
        "plt.ylabel('Latitude')\n",
        "plt.legend().set_visible(False)\n",
        "plt.tight_layout()\n",
        "plt.title('Latitude Time Series')\n",
        "sns.despine(top=True)\n",
        "plt.show();"
      ],
      "metadata": {
        "colab": {
          "base_uri": "https://localhost:8080/",
          "height": 385
        },
        "id": "O2wAc6KVMuqV",
        "outputId": "10f41069-43fb-4f40-d73c-2429237a8994"
      },
      "execution_count": 175,
      "outputs": [
        {
          "output_type": "display_data",
          "data": {
            "text/plain": [
              "<Figure size 864x360 with 1 Axes>"
            ],
            "image/png": "[encoded data removed]"
          },
          "metadata": {
            "needs_background": "light"
          }
        }
      ]
    },
    {
      "cell_type": "code",
      "source": [
        "df2=df_update.copy()\n",
        "def test_stationarity(timeseries):\n",
        "    rolmean = timeseries.rolling(window=30).mean()\n",
        "    rolstd = timeseries.rolling(window=30).std()\n",
        "    \n",
        "    plt.figure(figsize=(14,5))\n",
        "    sns.despine(left=True)\n",
        "    orig = plt.plot(timeseries, color='blue',label='Original')\n",
        "    mean = plt.plot(rolmean, color='red', label='Rolling Mean')\n",
        "    std = plt.plot(rolstd, color='black', label = 'Rolling Std')\n",
        "\n",
        "    plt.legend(loc='best'); plt.title('Rolling Mean & Standard Deviation')\n",
        "    plt.show()\n",
        "    \n",
        "    print ('<Results of Dickey-Fuller Test>')\n",
        "    dftest = adfuller(timeseries, autolag='AIC')\n",
        "    dfoutput = pd.Series(dftest[0:4],\n",
        "                         index=['Test Statistic','p-value','#Lags Used','Number of Observations Used'])\n",
        "    for key,value in dftest[4].items():\n",
        "        dfoutput['Critical Value (%s)'%key] = value\n",
        "    print(dfoutput)\n",
        "test_stationarity(df2.Latitude.dropna())"
      ],
      "metadata": {
        "colab": {
          "base_uri": "https://localhost:8080/",
          "height": 493
        },
        "id": "aksAugyLOf7A",
        "outputId": "549458df-3f8b-4795-b479-6d2022377d54"
      },
      "execution_count": 179,
      "outputs": [
        {
          "output_type": "display_data",
          "data": {
            "text/plain": [
              "<Figure size 1008x360 with 1 Axes>"
            ],
            "image/png": "[encoded data removed]"
          },
          "metadata": {
            "needs_background": "light"
          }
        },
        {
          "output_type": "stream",
          "name": "stdout",
          "text": [
            "<Results of Dickey-Fuller Test>\n",
            "Test Statistic                 -2.6094\n",
            "p-value                         0.0911\n",
            "#Lags Used                      0.0000\n",
            "Number of Observations Used   819.0000\n",
            "Critical Value (1%)            -3.4384\n",
            "Critical Value (5%)            -2.8651\n",
            "Critical Value (10%)           -2.5687\n",
            "dtype: float64\n"
          ]
        }
      ]
    },
    {
      "cell_type": "code",
      "source": [
        "dataset = df_update.Latitude.values #numpy.ndarray\n",
        "dataset = dataset.astype('float32')\n",
        "dataset = np.reshape(dataset, (-1, 1))\n",
        "scaler = MinMaxScaler(feature_range=(0, 1))\n",
        "dataset = scaler.fit_transform(dataset)\n",
        "test_size = dataframelist[-1].shape[0]\n",
        "train_size = len(dataset) - test_size\n",
        "train, test = dataset[:train_size,:], dataset[train_size:,:]\n",
        "\n",
        "def create_dataset(dataset, look_back, look_ahead):\n",
        "    X, Y = [], []\n",
        "    for i in range(len(dataset)-look_back-look_ahead):\n",
        "        a = dataset[i:(i+look_back), 0]\n",
        "        X.append(a)\n",
        "        Y.append(dataset[i + look_back + look_ahead - 1, 0])\n",
        "    return np.array(X), np.array(Y)\n",
        "    \n",
        "look_back = 5\n",
        "look_ahead = 1\n",
        "X_train, Y_train = create_dataset(train, look_back, look_ahead)\n",
        "X_test, Y_test = create_dataset(test, look_back, look_ahead)\n",
        "\n",
        "# reshape input to be [samples, time steps, features]\n",
        "X_train = np.reshape(X_train, (X_train.shape[0], 1, X_train.shape[1]))\n",
        "X_test = np.reshape(X_test, (X_test.shape[0], 1, X_test.shape[1]))"
      ],
      "metadata": {
        "id": "jLmEy75qc6Th"
      },
      "execution_count": 180,
      "outputs": []
    },
    {
      "cell_type": "code",
      "source": [
        "model = Sequential()\n",
        "model.add(LSTM(100, input_shape=(X_train.shape[1], X_train.shape[2])))\n",
        "model.add(Dropout(0.2))\n",
        "model.add(Dense(1))\n",
        "model.compile(loss='mean_squared_error', optimizer='adam')\n",
        "\n",
        "history = model.fit(X_train, Y_train, epochs=15, batch_size=32, validation_data=(X_test, Y_test), \n",
        "                    callbacks=[EarlyStopping(monitor='val_loss', patience=5)], verbose=1, shuffle=False)\n",
        "\n",
        "model.summary()"
      ],
      "metadata": {
        "colab": {
          "base_uri": "https://localhost:8080/"
        },
        "id": "4FJ4Pujza-cp",
        "outputId": "471049c4-a4a2-4920-9036-92ecb800cd0b"
      },
      "execution_count": 181,
      "outputs": [
        {
          "output_type": "stream",
          "name": "stdout",
          "text": [
            "Epoch 1/15\n",
            "13/13 [==============================] - 3s 49ms/step - loss: 0.2467 - val_loss: 0.0770\n",
            "Epoch 2/15\n",
            "13/13 [==============================] - 0s 9ms/step - loss: 0.0503 - val_loss: 0.0056\n",
            "Epoch 3/15\n",
            "13/13 [==============================] - 0s 7ms/step - loss: 0.0159 - val_loss: 0.0048\n",
            "Epoch 4/15\n",
            "13/13 [==============================] - 0s 8ms/step - loss: 0.0183 - val_loss: 0.0027\n",
            "Epoch 5/15\n",
            "13/13 [==============================] - 0s 8ms/step - loss: 0.0159 - val_loss: 0.0032\n",
            "Epoch 6/15\n",
            "13/13 [==============================] - 0s 8ms/step - loss: 0.0148 - val_loss: 0.0028\n",
            "Epoch 7/15\n",
            "13/13 [==============================] - 0s 9ms/step - loss: 0.0137 - val_loss: 0.0023\n",
            "Epoch 8/15\n",
            "13/13 [==============================] - 0s 9ms/step - loss: 0.0132 - val_loss: 0.0022\n",
            "Epoch 9/15\n",
            "13/13 [==============================] - 0s 8ms/step - loss: 0.0133 - val_loss: 0.0022\n",
            "Epoch 10/15\n",
            "13/13 [==============================] - 0s 7ms/step - loss: 0.0129 - val_loss: 0.0021\n",
            "Epoch 11/15\n",
            "13/13 [==============================] - 0s 9ms/step - loss: 0.0123 - val_loss: 0.0019\n",
            "Epoch 12/15\n",
            "13/13 [==============================] - 0s 8ms/step - loss: 0.0124 - val_loss: 0.0019\n",
            "Epoch 13/15\n",
            "13/13 [==============================] - 0s 7ms/step - loss: 0.0114 - val_loss: 0.0017\n",
            "Epoch 14/15\n",
            "13/13 [==============================] - 0s 7ms/step - loss: 0.0119 - val_loss: 0.0017\n",
            "Epoch 15/15\n",
            "13/13 [==============================] - 0s 9ms/step - loss: 0.0120 - val_loss: 0.0015\n",
            "Model: \"sequential_8\"\n",
            "_________________________________________________________________\n",
            " Layer (type)                Output Shape              Param #   \n",
            "=================================================================\n",
            " lstm_8 (LSTM)               (None, 100)               44400     \n",
            "                                                                 \n",
            " dropout_8 (Dropout)         (None, 100)               0         \n",
            "                                                                 \n",
            " dense_8 (Dense)             (None, 1)                 101       \n",
            "                                                                 \n",
            "=================================================================\n",
            "Total params: 44,501\n",
            "Trainable params: 44,501\n",
            "Non-trainable params: 0\n",
            "_________________________________________________________________\n"
          ]
        }
      ]
    },
    {
      "cell_type": "code",
      "source": [
        "train_predict = model.predict(X_train)\n",
        "test_predict = model.predict(X_test)\n",
        "# invert predictions\n",
        "train_predict = scaler.inverse_transform(train_predict)\n",
        "Y_train = scaler.inverse_transform([Y_train])\n",
        "test_predict = scaler.inverse_transform(test_predict)\n",
        "Y_test = scaler.inverse_transform([Y_test])\n",
        "print('Train Mean Absolute Error:', mean_absolute_error(Y_train[0], train_predict[:,0]))\n",
        "print('Train Root Mean Squared Error:',np.sqrt(mean_squared_error(Y_train[0], train_predict[:,0])))\n",
        "print('Test Mean Absolute Error:', mean_absolute_error(Y_test[0], test_predict[:,0]))\n",
        "print('Test Root Mean Squared Error:',np.sqrt(mean_squared_error(Y_test[0], test_predict[:,0])))"
      ],
      "metadata": {
        "colab": {
          "base_uri": "https://localhost:8080/"
        },
        "id": "V2WXsOGrdjuT",
        "outputId": "40b11271-ad11-4d5e-a136-0d08370d8c9b"
      },
      "execution_count": 182,
      "outputs": [
        {
          "output_type": "stream",
          "name": "stdout",
          "text": [
            "19/19 [==============================] - 0s 2ms/step\n",
            "7/7 [==============================] - 0s 2ms/step\n",
            "Train Mean Absolute Error: 0.10826381556362517\n",
            "Train Root Mean Squared Error: 0.232593163700124\n",
            "Test Mean Absolute Error: 0.07452346298403241\n",
            "Test Root Mean Squared Error: 0.09151393836972299\n"
          ]
        }
      ]
    },
    {
      "cell_type": "code",
      "source": [
        "plt.figure(figsize=(8,4))\n",
        "plt.plot(history.history['loss'], label='Train Loss')\n",
        "plt.plot(history.history['val_loss'], label='Test Loss')\n",
        "plt.title('model loss')\n",
        "plt.ylabel('loss')\n",
        "plt.xlabel('epochs')\n",
        "plt.legend(loc='upper right')\n",
        "plt.show();"
      ],
      "metadata": {
        "colab": {
          "base_uri": "https://localhost:8080/",
          "height": 300
        },
        "id": "ew3HGz1sduhy",
        "outputId": "d9764718-dbf8-41a0-f209-da943e8e7b25"
      },
      "execution_count": 183,
      "outputs": [
        {
          "output_type": "display_data",
          "data": {
            "text/plain": [
              "<Figure size 576x288 with 1 Axes>"
            ],
            "image/png": "[encoded data removed]"
          },
          "metadata": {
            "needs_background": "light"
          }
        }
      ]
    },
    {
      "cell_type": "code",
      "source": [
        "aa=[x for x in range(Y_test.shape[1])]\n",
        "plt.figure(figsize=(8,4))\n",
        "plt.plot(aa, Y_test[0][:], marker='.', label=\"actual\")\n",
        "plt.plot(aa, test_predict[:,0][:], 'r', label=\"prediction\")\n",
        "# plt.tick_params(left=False, labelleft=True) #remove ticks\n",
        "plt.tight_layout()\n",
        "sns.despine(top=True)\n",
        "plt.subplots_adjust(left=0.07)\n",
        "plt.ylabel('Latitude', size=15)\n",
        "plt.xlabel('Time step', size=15)\n",
        "plt.legend(fontsize=10)\n",
        "plt.show();"
      ],
      "metadata": {
        "colab": {
          "base_uri": "https://localhost:8080/",
          "height": 316
        },
        "id": "3EM0pqphd1gF",
        "outputId": "fbb953db-678e-47be-fed9-ea8005c97475"
      },
      "execution_count": 184,
      "outputs": [
        {
          "output_type": "display_data",
          "data": {
            "text/plain": [
              "<Figure size 576x288 with 1 Axes>"
            ],
            "image/png": "[encoded data removed]"
          },
          "metadata": {
            "needs_background": "light"
          }
        }
      ]
    },
    {
      "cell_type": "markdown",
      "source": [
        "## For Longitude"
      ],
      "metadata": {
        "id": "L1DaapAUl4_n"
      }
    },
    {
      "cell_type": "code",
      "source": [
        "df_update = dataframelist[0].loc[:,['date_time','Longitude', 'day', 'hour','minute','second']]\n",
        "for df in dataframelist[1:]:\n",
        "  df_long=df.loc[:,['date_time','Longitude', 'day', 'hour','minute','second']]\n",
        "  df_update = pd.concat([df_update, df_long], axis=0)\n",
        "df_update"
      ],
      "metadata": {
        "colab": {
          "base_uri": "https://localhost:8080/",
          "height": 423
        },
        "id": "z0dzfiy3eJqg",
        "outputId": "c2f83e44-0281-4f89-fed6-ffccd22683ad"
      },
      "execution_count": 185,
      "outputs": [
        {
          "output_type": "execute_result",
          "data": {
            "text/plain": [
              "              date_time  Longitude  day  hour  minute  second\n",
              "0   2023-03-12 22:47:37    78.4585   12    22      47      37\n",
              "1   2023-03-12 22:48:07    78.4863   12    22      48       7\n",
              "2   2023-03-12 22:48:27    78.5084   12    22      48      27\n",
              "3   2023-03-12 22:48:46    78.5293   12    22      48      46\n",
              "4   2023-03-12 22:49:06    78.5394   12    22      49       6\n",
              "..                  ...        ...  ...   ...     ...     ...\n",
              "200 2023-03-17 00:08:02    72.9515   17     0       8       2\n",
              "201 2023-03-17 00:08:12    72.9443   17     0       8      12\n",
              "202 2023-03-17 00:09:12    72.8994   17     0       9      12\n",
              "203 2023-03-17 00:09:28    72.8878   17     0       9      28\n",
              "204 2023-03-17 00:09:44    72.8759   17     0       9      44\n",
              "\n",
              "[820 rows x 6 columns]"
            ],
            "text/html": [
              "\n",
              "  <div id=\"df-f3ad2769-2c8a-4f3f-becc-b902fad19afd\">\n",
              "    <div class=\"colab-df-container\">\n",
              "      <div>\n",
              "<style scoped>\n",
              "    .dataframe tbody tr th:only-of-type {\n",
              "        vertical-align: middle;\n",
              "    }\n",
              "\n",
              "    .dataframe tbody tr th {\n",
              "        vertical-align: top;\n",
              "    }\n",
              "\n",
              "    .dataframe thead th {\n",
              "        text-align: right;\n",
              "    }\n",
              "</style>\n",
              "<table border=\"1\" class=\"dataframe\">\n",
              "  <thead>\n",
              "    <tr style=\"text-align: right;\">\n",
              "      <th></th>\n",
              "      <th>date_time</th>\n",
              "      <th>Longitude</th>\n",
              "      <th>day</th>\n",
              "      <th>hour</th>\n",
              "      <th>minute</th>\n",
              "      <th>second</th>\n",
              "    </tr>\n",
              "  </thead>\n",
              "  <tbody>\n",
              "    <tr>\n",
              "      <th>0</th>\n",
              "      <td>2023-03-12 22:47:37</td>\n",
              "      <td>78.4585</td>\n",
              "      <td>12</td>\n",
              "      <td>22</td>\n",
              "      <td>47</td>\n",
              "      <td>37</td>\n",
              "    </tr>\n",
              "    <tr>\n",
              "      <th>1</th>\n",
              "      <td>2023-03-12 22:48:07</td>\n",
              "      <td>78.4863</td>\n",
              "      <td>12</td>\n",
              "      <td>22</td>\n",
              "      <td>48</td>\n",
              "      <td>7</td>\n",
              "    </tr>\n",
              "    <tr>\n",
              "      <th>2</th>\n",
              "      <td>2023-03-12 22:48:27</td>\n",
              "      <td>78.5084</td>\n",
              "      <td>12</td>\n",
              "      <td>22</td>\n",
              "      <td>48</td>\n",
              "      <td>27</td>\n",
              "    </tr>\n",
              "    <tr>\n",
              "      <th>3</th>\n",
              "      <td>2023-03-12 22:48:46</td>\n",
              "      <td>78.5293</td>\n",
              "      <td>12</td>\n",
              "      <td>22</td>\n",
              "      <td>48</td>\n",
              "      <td>46</td>\n",
              "    </tr>\n",
              "    <tr>\n",
              "      <th>4</th>\n",
              "      <td>2023-03-12 22:49:06</td>\n",
              "      <td>78.5394</td>\n",
              "      <td>12</td>\n",
              "      <td>22</td>\n",
              "      <td>49</td>\n",
              "      <td>6</td>\n",
              "    </tr>\n",
              "    <tr>\n",
              "      <th>...</th>\n",
              "      <td>...</td>\n",
              "      <td>...</td>\n",
              "      <td>...</td>\n",
              "      <td>...</td>\n",
              "      <td>...</td>\n",
              "      <td>...</td>\n",
              "    </tr>\n",
              "    <tr>\n",
              "      <th>200</th>\n",
              "      <td>2023-03-17 00:08:02</td>\n",
              "      <td>72.9515</td>\n",
              "      <td>17</td>\n",
              "      <td>0</td>\n",
              "      <td>8</td>\n",
              "      <td>2</td>\n",
              "    </tr>\n",
              "    <tr>\n",
              "      <th>201</th>\n",
              "      <td>2023-03-17 00:08:12</td>\n",
              "      <td>72.9443</td>\n",
              "      <td>17</td>\n",
              "      <td>0</td>\n",
              "      <td>8</td>\n",
              "      <td>12</td>\n",
              "    </tr>\n",
              "    <tr>\n",
              "      <th>202</th>\n",
              "      <td>2023-03-17 00:09:12</td>\n",
              "      <td>72.8994</td>\n",
              "      <td>17</td>\n",
              "      <td>0</td>\n",
              "      <td>9</td>\n",
              "      <td>12</td>\n",
              "    </tr>\n",
              "    <tr>\n",
              "      <th>203</th>\n",
              "      <td>2023-03-17 00:09:28</td>\n",
              "      <td>72.8878</td>\n",
              "      <td>17</td>\n",
              "      <td>0</td>\n",
              "      <td>9</td>\n",
              "      <td>28</td>\n",
              "    </tr>\n",
              "    <tr>\n",
              "      <th>204</th>\n",
              "      <td>2023-03-17 00:09:44</td>\n",
              "      <td>72.8759</td>\n",
              "      <td>17</td>\n",
              "      <td>0</td>\n",
              "      <td>9</td>\n",
              "      <td>44</td>\n",
              "    </tr>\n",
              "  </tbody>\n",
              "</table>\n",
              "<p>820 rows × 6 columns</p>\n",
              "</div>\n",
              "      <button class=\"colab-df-convert\" onclick=\"convertToInteractive('df-f3ad2769-2c8a-4f3f-becc-b902fad19afd')\"\n",
              "              title=\"Convert this dataframe to an interactive table.\"\n",
              "              style=\"display:none;\">\n",
              "        \n",
              "  <svg xmlns=\"http://www.w3.org/2000/svg\" height=\"24px\"viewBox=\"0 0 24 24\"\n",
              "       width=\"24px\">\n",
              "    <path d=\"M0 0h24v24H0V0z\" fill=\"none\"/>\n",
              "    <path d=\"M18.56 5.44l.94 2.06.94-2.06 2.06-.94-2.06-.94-.94-2.06-.94 2.06-2.06.94zm-11 1L8.5 8.5l.94-2.06 2.06-.94-2.06-.94L8.5 2.5l-.94 2.06-2.06.94zm10 10l.94 2.06.94-2.06 2.06-.94-2.06-.94-.94-2.06-.94 2.06-2.06.94z\"/><path d=\"M17.41 7.96l-1.37-1.37c-.4-.4-.92-.59-1.43-.59-.52 0-1.04.2-1.43.59L10.3 9.45l-7.72 7.72c-.78.78-.78 2.05 0 2.83L4 21.41c.39.39.9.59 1.41.59.51 0 1.02-.2 1.41-.59l7.78-7.78 2.81-2.81c.8-.78.8-2.07 0-2.86zM5.41 20L4 18.59l7.72-7.72 1.47 1.35L5.41 20z\"/>\n",
              "  </svg>\n",
              "      </button>\n",
              "      \n",
              "  <style>\n",
              "    .colab-df-container {\n",
              "      display:flex;\n",
              "      flex-wrap:wrap;\n",
              "      gap: 12px;\n",
              "    }\n",
              "\n",
              "    .colab-df-convert {\n",
              "      background-color: #E8F0FE;\n",
              "      border: none;\n",
              "      border-radius: 50%;\n",
              "      cursor: pointer;\n",
              "      display: none;\n",
              "      fill: #1967D2;\n",
              "      height: 32px;\n",
              "      padding: 0 0 0 0;\n",
              "      width: 32px;\n",
              "    }\n",
              "\n",
              "    .colab-df-convert:hover {\n",
              "      background-color: #E2EBFA;\n",
              "      box-shadow: 0px 1px 2px rgba(60, 64, 67, 0.3), 0px 1px 3px 1px rgba(60, 64, 67, 0.15);\n",
              "      fill: #174EA6;\n",
              "    }\n",
              "\n",
              "    [theme=dark] .colab-df-convert {\n",
              "      background-color: #3B4455;\n",
              "      fill: #D2E3FC;\n",
              "    }\n",
              "\n",
              "    [theme=dark] .colab-df-convert:hover {\n",
              "      background-color: #434B5C;\n",
              "      box-shadow: 0px 1px 3px 1px rgba(0, 0, 0, 0.15);\n",
              "      filter: drop-shadow(0px 1px 2px rgba(0, 0, 0, 0.3));\n",
              "      fill: #FFFFFF;\n",
              "    }\n",
              "  </style>\n",
              "\n",
              "      <script>\n",
              "        const buttonEl =\n",
              "          document.querySelector('#df-f3ad2769-2c8a-4f3f-becc-b902fad19afd button.colab-df-convert');\n",
              "        buttonEl.style.display =\n",
              "          google.colab.kernel.accessAllowed ? 'block' : 'none';\n",
              "\n",
              "        async function convertToInteractive(key) {\n",
              "          const element = document.querySelector('#df-f3ad2769-2c8a-4f3f-becc-b902fad19afd');\n",
              "          const dataTable =\n",
              "            await google.colab.kernel.invokeFunction('convertToInteractive',\n",
              "                                                     [key], {});\n",
              "          if (!dataTable) return;\n",
              "\n",
              "          const docLinkHtml = 'Like what you see? Visit the ' +\n",
              "            '<a target=\"_blank\" href=https://colab.research.google.com/notebooks/data_table.ipynb>data table notebook</a>'\n",
              "            + ' to learn more about interactive tables.';\n",
              "          element.innerHTML = '';\n",
              "          dataTable['output_type'] = 'display_data';\n",
              "          await google.colab.output.renderOutput(dataTable, element);\n",
              "          const docLink = document.createElement('div');\n",
              "          docLink.innerHTML = docLinkHtml;\n",
              "          element.appendChild(docLink);\n",
              "        }\n",
              "      </script>\n",
              "    </div>\n",
              "  </div>\n",
              "  "
            ]
          },
          "metadata": {},
          "execution_count": 185
        }
      ]
    },
    {
      "cell_type": "code",
      "source": [
        "stat, p = stats.normaltest(df_update.Longitude)\n",
        "print('Statistics=%.3f, p=%.3f' % (stat, p))\n",
        "alpha = 0.05\n",
        "if p > alpha:\n",
        "    print('Data looks Gaussian (fail to reject H0)')\n",
        "else:\n",
        "    print('Data does not look Gaussian (reject H0)')"
      ],
      "metadata": {
        "colab": {
          "base_uri": "https://localhost:8080/"
        },
        "id": "MbexL825ltBr",
        "outputId": "8c212a12-7b72-423c-bce1-2ef653907b43"
      },
      "execution_count": 186,
      "outputs": [
        {
          "output_type": "stream",
          "name": "stdout",
          "text": [
            "Statistics=641.961, p=0.000\n",
            "Data does not look Gaussian (reject H0)\n"
          ]
        }
      ]
    },
    {
      "cell_type": "code",
      "source": [
        "sns.distplot(df_update.Longitude);\n",
        "print( 'Kurtosis of normal distribution: {}'.format(stats.kurtosis(df_update.Longitude)))\n",
        "print( 'Skewness of normal distribution: {}'.format(stats.skew(df_update.Longitude)))"
      ],
      "metadata": {
        "colab": {
          "base_uri": "https://localhost:8080/",
          "height": 319
        },
        "id": "Ne6L59tGmEFP",
        "outputId": "4b8553f8-a3cf-4f97-92b2-fd719cd56e66"
      },
      "execution_count": 187,
      "outputs": [
        {
          "output_type": "stream",
          "name": "stdout",
          "text": [
            "Kurtosis of normal distribution: -1.2051496435732894\n",
            "Skewness of normal distribution: 0.5453027259832648\n"
          ]
        },
        {
          "output_type": "display_data",
          "data": {
            "text/plain": [
              "<Figure size 432x288 with 1 Axes>"
            ],
            "image/png": "[encoded data removed]"
          },
          "metadata": {
            "needs_background": "light"
          }
        }
      ]
    },
    {
      "cell_type": "code",
      "source": [
        "dfspec=df_update.loc[:,['date_time','Longitude']]\n",
        "dfspec.set_index('date_time',inplace=True)\n",
        "dfspec.plot(figsize=(12,5))\n",
        "plt.ylabel('Longitude')\n",
        "plt.legend().set_visible(False)\n",
        "plt.tight_layout()\n",
        "plt.title('Longitude Time Series')\n",
        "sns.despine(top=True)\n",
        "plt.show();"
      ],
      "metadata": {
        "colab": {
          "base_uri": "https://localhost:8080/",
          "height": 385
        },
        "id": "9jfxtn9amOg_",
        "outputId": "4ac7a99c-fae6-47ac-e1c9-5dbceca145f6"
      },
      "execution_count": 188,
      "outputs": [
        {
          "output_type": "display_data",
          "data": {
            "text/plain": [
              "<Figure size 864x360 with 1 Axes>"
            ],
            "image/png": "[encoded data removed]"
          },
          "metadata": {
            "needs_background": "light"
          }
        }
      ]
    },
    {
      "cell_type": "code",
      "source": [
        "df2=df_update.copy()\n",
        "def test_stationarity(timeseries):\n",
        "    rolmean = timeseries.rolling(window=30).mean()\n",
        "    rolstd = timeseries.rolling(window=30).std()\n",
        "    \n",
        "    plt.figure(figsize=(14,5))\n",
        "    sns.despine(left=True)\n",
        "    orig = plt.plot(timeseries, color='blue',label='Original')\n",
        "    mean = plt.plot(rolmean, color='red', label='Rolling Mean')\n",
        "    std = plt.plot(rolstd, color='black', label = 'Rolling Std')\n",
        "\n",
        "    plt.legend(loc='best'); plt.title('Rolling Mean & Standard Deviation')\n",
        "    plt.show()\n",
        "    \n",
        "    print ('<Results of Dickey-Fuller Test>')\n",
        "    dftest = adfuller(timeseries, autolag='AIC')\n",
        "    dfoutput = pd.Series(dftest[0:4],\n",
        "                         index=['Test Statistic','p-value','#Lags Used','Number of Observations Used'])\n",
        "    for key,value in dftest[4].items():\n",
        "        dfoutput['Critical Value (%s)'%key] = value\n",
        "    print(dfoutput)\n",
        "test_stationarity(df2.Longitude)"
      ],
      "metadata": {
        "colab": {
          "base_uri": "https://localhost:8080/",
          "height": 493
        },
        "id": "oWs_cYVnmz1R",
        "outputId": "25247f28-63c7-480f-b067-99982b588ffc"
      },
      "execution_count": 189,
      "outputs": [
        {
          "output_type": "display_data",
          "data": {
            "text/plain": [
              "<Figure size 1008x360 with 1 Axes>"
            ],
            "image/png": "[encoded data removed]"
          },
          "metadata": {
            "needs_background": "light"
          }
        },
        {
          "output_type": "stream",
          "name": "stdout",
          "text": [
            "<Results of Dickey-Fuller Test>\n",
            "Test Statistic                 -3.1293\n",
            "p-value                         0.0245\n",
            "#Lags Used                      0.0000\n",
            "Number of Observations Used   819.0000\n",
            "Critical Value (1%)            -3.4384\n",
            "Critical Value (5%)            -2.8651\n",
            "Critical Value (10%)           -2.5687\n",
            "dtype: float64\n"
          ]
        }
      ]
    },
    {
      "cell_type": "code",
      "source": [
        "dataset = df_update.Longitude.values #numpy.ndarray\n",
        "dataset = dataset.astype('float32')\n",
        "dataset = np.reshape(dataset, (-1, 1))\n",
        "scaler = MinMaxScaler(feature_range=(0, 1))\n",
        "dataset = scaler.fit_transform(dataset)\n",
        "test_size = dataframelist[-1].shape[0]\n",
        "train_size = len(dataset) - test_size\n",
        "train, test = dataset[:train_size,:], dataset[train_size:,:]\n",
        "\n",
        "def create_dataset(dataset, look_back, look_ahead):\n",
        "    X, Y = [], []\n",
        "    for i in range(len(dataset)-look_back-look_ahead):\n",
        "        a = dataset[i:(i+look_back), 0]\n",
        "        X.append(a)\n",
        "        Y.append(dataset[i + look_back + look_ahead - 1, 0])\n",
        "    return np.array(X), np.array(Y)\n",
        "    \n",
        "look_back = 5\n",
        "look_ahead = 1\n",
        "X_train, Y_train = create_dataset(train, look_back, look_ahead)\n",
        "X_test, Y_test = create_dataset(test, look_back, look_ahead)\n",
        "\n",
        "# reshape input to be [samples, time steps, features]\n",
        "X_train = np.reshape(X_train, (X_train.shape[0], 1, X_train.shape[1]))\n",
        "X_test = np.reshape(X_test, (X_test.shape[0], 1, X_test.shape[1]))"
      ],
      "metadata": {
        "id": "99Rb4ie4pI3l"
      },
      "execution_count": 257,
      "outputs": []
    },
    {
      "cell_type": "code",
      "source": [
        "model = Sequential()\n",
        "model.add(LSTM(100, input_shape=(X_train.shape[1], X_train.shape[2])))\n",
        "model.add(Dropout(0.2))\n",
        "model.add(Dense(1))\n",
        "model.compile(loss='mean_squared_error', optimizer='adam')\n",
        "\n",
        "history = model.fit(X_train, Y_train, epochs=15, batch_size=32, validation_data=(X_test, Y_test), \n",
        "                    callbacks=[EarlyStopping(monitor='val_loss', patience=5)], verbose=1, shuffle=False)\n",
        "\n",
        "model.summary()"
      ],
      "metadata": {
        "colab": {
          "base_uri": "https://localhost:8080/"
        },
        "id": "Bdn-k-RIpX5W",
        "outputId": "fb67c341-d551-4b69-8526-09dec5dfad4f"
      },
      "execution_count": 258,
      "outputs": [
        {
          "output_type": "stream",
          "name": "stdout",
          "text": [
            "Epoch 1/15\n",
            "19/19 [==============================] - 4s 33ms/step - loss: 0.1208 - val_loss: 0.0117\n",
            "Epoch 2/15\n",
            "19/19 [==============================] - 0s 7ms/step - loss: 0.0261 - val_loss: 0.0064\n",
            "Epoch 3/15\n",
            "19/19 [==============================] - 0s 6ms/step - loss: 0.0224 - val_loss: 0.0038\n",
            "Epoch 4/15\n",
            "19/19 [==============================] - 0s 6ms/step - loss: 0.0192 - val_loss: 0.0024\n",
            "Epoch 5/15\n",
            "19/19 [==============================] - 0s 7ms/step - loss: 0.0187 - val_loss: 0.0021\n",
            "Epoch 6/15\n",
            "19/19 [==============================] - 0s 6ms/step - loss: 0.0177 - val_loss: 0.0016\n",
            "Epoch 7/15\n",
            "19/19 [==============================] - 0s 7ms/step - loss: 0.0167 - val_loss: 0.0013\n",
            "Epoch 8/15\n",
            "19/19 [==============================] - 0s 6ms/step - loss: 0.0167 - val_loss: 9.9443e-04\n",
            "Epoch 9/15\n",
            "19/19 [==============================] - 0s 6ms/step - loss: 0.0149 - val_loss: 8.6326e-04\n",
            "Epoch 10/15\n",
            "19/19 [==============================] - 0s 6ms/step - loss: 0.0143 - val_loss: 6.7966e-04\n",
            "Epoch 11/15\n",
            "19/19 [==============================] - 0s 6ms/step - loss: 0.0137 - val_loss: 7.9924e-04\n",
            "Epoch 12/15\n",
            "19/19 [==============================] - 0s 7ms/step - loss: 0.0130 - val_loss: 5.0160e-04\n",
            "Epoch 13/15\n",
            "19/19 [==============================] - 0s 6ms/step - loss: 0.0121 - val_loss: 6.7672e-04\n",
            "Epoch 14/15\n",
            "19/19 [==============================] - 0s 7ms/step - loss: 0.0122 - val_loss: 3.6159e-04\n",
            "Epoch 15/15\n",
            "19/19 [==============================] - 0s 7ms/step - loss: 0.0112 - val_loss: 3.7518e-04\n",
            "Model: \"sequential_33\"\n",
            "_________________________________________________________________\n",
            " Layer (type)                Output Shape              Param #   \n",
            "=================================================================\n",
            " lstm_33 (LSTM)              (None, 100)               44400     \n",
            "                                                                 \n",
            " dropout_33 (Dropout)        (None, 100)               0         \n",
            "                                                                 \n",
            " dense_33 (Dense)            (None, 1)                 101       \n",
            "                                                                 \n",
            "=================================================================\n",
            "Total params: 44,501\n",
            "Trainable params: 44,501\n",
            "Non-trainable params: 0\n",
            "_________________________________________________________________\n"
          ]
        }
      ]
    },
    {
      "cell_type": "code",
      "source": [
        "train_predict = model.predict(X_train)\n",
        "test_predict = model.predict(X_test)\n",
        "# invert predictions\n",
        "train_predict = scaler.inverse_transform(train_predict)\n",
        "Y_train = scaler.inverse_transform([Y_train])\n",
        "test_predict = scaler.inverse_transform(test_predict)\n",
        "Y_test = scaler.inverse_transform([Y_test])\n",
        "print('Train Mean Absolute Error:', mean_absolute_error(Y_train[0], train_predict[:,0]))\n",
        "print('Train Root Mean Squared Error:',np.sqrt(mean_squared_error(Y_train[0], train_predict[:,0])))\n",
        "print('Test Mean Absolute Error:', mean_absolute_error(Y_test[0], test_predict[:,0]))\n",
        "print('Test Root Mean Squared Error:',np.sqrt(mean_squared_error(Y_test[0], test_predict[:,0])))"
      ],
      "metadata": {
        "colab": {
          "base_uri": "https://localhost:8080/"
        },
        "id": "RQUjoRIFpd-g",
        "outputId": "f74c297a-a412-4733-e412-f740d0779abf"
      },
      "execution_count": 259,
      "outputs": [
        {
          "output_type": "stream",
          "name": "stdout",
          "text": [
            "19/19 [==============================] - 0s 2ms/step\n",
            "7/7 [==============================] - 0s 2ms/step\n",
            "Train Mean Absolute Error: 0.17650088948932274\n",
            "Train Root Mean Squared Error: 0.5688712342899975\n",
            "Test Mean Absolute Error: 0.09167581693213628\n",
            "Test Root Mean Squared Error: 0.11138536933231225\n"
          ]
        }
      ]
    },
    {
      "cell_type": "code",
      "source": [
        "plt.figure(figsize=(8,4))\n",
        "plt.plot(history.history['loss'], label='Train Loss')\n",
        "plt.plot(history.history['val_loss'], label='Test Loss')\n",
        "plt.title('model loss')\n",
        "plt.ylabel('loss')\n",
        "plt.xlabel('epochs')\n",
        "plt.legend(loc='upper right')\n",
        "plt.show();"
      ],
      "metadata": {
        "colab": {
          "base_uri": "https://localhost:8080/",
          "height": 300
        },
        "id": "aJwi3C2upqV0",
        "outputId": "30e269e3-51b0-4a25-b53e-a2e56b5ba310"
      },
      "execution_count": 260,
      "outputs": [
        {
          "output_type": "display_data",
          "data": {
            "text/plain": [
              "<Figure size 576x288 with 1 Axes>"
            ],
            "image/png": "[encoded data removed]"
          },
          "metadata": {
            "needs_background": "light"
          }
        }
      ]
    },
    {
      "cell_type": "code",
      "source": [
        "aa=[x for x in range(Y_test.shape[1])]\n",
        "plt.figure(figsize=(8,4))\n",
        "plt.plot(aa, Y_test[0][:], marker='.', label=\"actual\")\n",
        "plt.plot(aa, test_predict[:][:,0], 'r', label=\"prediction\")\n",
        "# plt.tick_params(left=False, labelleft=True) #remove ticks\n",
        "plt.tight_layout()\n",
        "sns.despine(top=True)\n",
        "plt.subplots_adjust(left=0.07)\n",
        "plt.ylabel('Longitude', size=15)\n",
        "plt.xlabel('Time step', size=15)\n",
        "plt.legend(fontsize=10)\n",
        "plt.show();"
      ],
      "metadata": {
        "colab": {
          "base_uri": "https://localhost:8080/",
          "height": 316
        },
        "id": "dArhJJ71pyCM",
        "outputId": "3bdf246c-2e30-489e-82d1-162bb5b9b33a"
      },
      "execution_count": 261,
      "outputs": [
        {
          "output_type": "display_data",
          "data": {
            "text/plain": [
              "<Figure size 576x288 with 1 Axes>"
            ],
            "image/png": "[encoded data removed]"
          },
          "metadata": {
            "needs_background": "light"
          }
        }
      ]
    },
    {
      "cell_type": "markdown",
      "source": [
        "## Altitude"
      ],
      "metadata": {
        "id": "hKm59se6xaCM"
      }
    },
    {
      "cell_type": "code",
      "source": [
        "df_update = dataframelist[0].loc[:,['date_time','meters', 'day', 'hour','minute','second']]\n",
        "for df in dataframelist[1:]:\n",
        "  df_alt=df.loc[:,['date_time','meters', 'day', 'hour','minute','second']]\n",
        "  df_update = pd.concat([df_update, df_alt], axis=0)\n",
        "df_update"
      ],
      "metadata": {
        "colab": {
          "base_uri": "https://localhost:8080/",
          "height": 423
        },
        "id": "Ak2MhviJp5H6",
        "outputId": "bbf65d64-4439-42ab-a8f9-e8ddc249a800"
      },
      "execution_count": 262,
      "outputs": [
        {
          "output_type": "execute_result",
          "data": {
            "text/plain": [
              "              date_time    meters  day  hour  minute  second\n",
              "0   2023-03-12 22:47:37  815.0000   12    22      47      37\n",
              "1   2023-03-12 22:48:07 1036.0000   12    22      48       7\n",
              "2   2023-03-12 22:48:27 1212.0000   12    22      48      27\n",
              "3   2023-03-12 22:48:46 1433.0000   12    22      48      46\n",
              "4   2023-03-12 22:49:06 1745.0000   12    22      49       6\n",
              "..                  ...       ...  ...   ...     ...     ...\n",
              "200 2023-03-17 00:08:02  450.0000   17     0       8       2\n",
              "201 2023-03-17 00:08:12  404.0000   17     0       8      12\n",
              "202 2023-03-17 00:09:12  160.0000   17     0       9      12\n",
              "203 2023-03-17 00:09:28  107.0000   17     0       9      28\n",
              "204 2023-03-17 00:09:44   46.0000   17     0       9      44\n",
              "\n",
              "[820 rows x 6 columns]"
            ],
            "text/html": [
              "\n",
              "  <div id=\"df-a7f9303f-92f8-4909-8324-9f4566959dd1\">\n",
              "    <div class=\"colab-df-container\">\n",
              "      <div>\n",
              "<style scoped>\n",
              "    .dataframe tbody tr th:only-of-type {\n",
              "        vertical-align: middle;\n",
              "    }\n",
              "\n",
              "    .dataframe tbody tr th {\n",
              "        vertical-align: top;\n",
              "    }\n",
              "\n",
              "    .dataframe thead th {\n",
              "        text-align: right;\n",
              "    }\n",
              "</style>\n",
              "<table border=\"1\" class=\"dataframe\">\n",
              "  <thead>\n",
              "    <tr style=\"text-align: right;\">\n",
              "      <th></th>\n",
              "      <th>date_time</th>\n",
              "      <th>meters</th>\n",
              "      <th>day</th>\n",
              "      <th>hour</th>\n",
              "      <th>minute</th>\n",
              "      <th>second</th>\n",
              "    </tr>\n",
              "  </thead>\n",
              "  <tbody>\n",
              "    <tr>\n",
              "      <th>0</th>\n",
              "      <td>2023-03-12 22:47:37</td>\n",
              "      <td>815.0000</td>\n",
              "      <td>12</td>\n",
              "      <td>22</td>\n",
              "      <td>47</td>\n",
              "      <td>37</td>\n",
              "    </tr>\n",
              "    <tr>\n",
              "      <th>1</th>\n",
              "      <td>2023-03-12 22:48:07</td>\n",
              "      <td>1036.0000</td>\n",
              "      <td>12</td>\n",
              "      <td>22</td>\n",
              "      <td>48</td>\n",
              "      <td>7</td>\n",
              "    </tr>\n",
              "    <tr>\n",
              "      <th>2</th>\n",
              "      <td>2023-03-12 22:48:27</td>\n",
              "      <td>1212.0000</td>\n",
              "      <td>12</td>\n",
              "      <td>22</td>\n",
              "      <td>48</td>\n",
              "      <td>27</td>\n",
              "    </tr>\n",
              "    <tr>\n",
              "      <th>3</th>\n",
              "      <td>2023-03-12 22:48:46</td>\n",
              "      <td>1433.0000</td>\n",
              "      <td>12</td>\n",
              "      <td>22</td>\n",
              "      <td>48</td>\n",
              "      <td>46</td>\n",
              "    </tr>\n",
              "    <tr>\n",
              "      <th>4</th>\n",
              "      <td>2023-03-12 22:49:06</td>\n",
              "      <td>1745.0000</td>\n",
              "      <td>12</td>\n",
              "      <td>22</td>\n",
              "      <td>49</td>\n",
              "      <td>6</td>\n",
              "    </tr>\n",
              "    <tr>\n",
              "      <th>...</th>\n",
              "      <td>...</td>\n",
              "      <td>...</td>\n",
              "      <td>...</td>\n",
              "      <td>...</td>\n",
              "      <td>...</td>\n",
              "      <td>...</td>\n",
              "    </tr>\n",
              "    <tr>\n",
              "      <th>200</th>\n",
              "      <td>2023-03-17 00:08:02</td>\n",
              "      <td>450.0000</td>\n",
              "      <td>17</td>\n",
              "      <td>0</td>\n",
              "      <td>8</td>\n",
              "      <td>2</td>\n",
              "    </tr>\n",
              "    <tr>\n",
              "      <th>201</th>\n",
              "      <td>2023-03-17 00:08:12</td>\n",
              "      <td>404.0000</td>\n",
              "      <td>17</td>\n",
              "      <td>0</td>\n",
              "      <td>8</td>\n",
              "      <td>12</td>\n",
              "    </tr>\n",
              "    <tr>\n",
              "      <th>202</th>\n",
              "      <td>2023-03-17 00:09:12</td>\n",
              "      <td>160.0000</td>\n",
              "      <td>17</td>\n",
              "      <td>0</td>\n",
              "      <td>9</td>\n",
              "      <td>12</td>\n",
              "    </tr>\n",
              "    <tr>\n",
              "      <th>203</th>\n",
              "      <td>2023-03-17 00:09:28</td>\n",
              "      <td>107.0000</td>\n",
              "      <td>17</td>\n",
              "      <td>0</td>\n",
              "      <td>9</td>\n",
              "      <td>28</td>\n",
              "    </tr>\n",
              "    <tr>\n",
              "      <th>204</th>\n",
              "      <td>2023-03-17 00:09:44</td>\n",
              "      <td>46.0000</td>\n",
              "      <td>17</td>\n",
              "      <td>0</td>\n",
              "      <td>9</td>\n",
              "      <td>44</td>\n",
              "    </tr>\n",
              "  </tbody>\n",
              "</table>\n",
              "<p>820 rows × 6 columns</p>\n",
              "</div>\n",
              "      <button class=\"colab-df-convert\" onclick=\"convertToInteractive('df-a7f9303f-92f8-4909-8324-9f4566959dd1')\"\n",
              "              title=\"Convert this dataframe to an interactive table.\"\n",
              "              style=\"display:none;\">\n",
              "        \n",
              "  <svg xmlns=\"http://www.w3.org/2000/svg\" height=\"24px\"viewBox=\"0 0 24 24\"\n",
              "       width=\"24px\">\n",
              "    <path d=\"M0 0h24v24H0V0z\" fill=\"none\"/>\n",
              "    <path d=\"M18.56 5.44l.94 2.06.94-2.06 2.06-.94-2.06-.94-.94-2.06-.94 2.06-2.06.94zm-11 1L8.5 8.5l.94-2.06 2.06-.94-2.06-.94L8.5 2.5l-.94 2.06-2.06.94zm10 10l.94 2.06.94-2.06 2.06-.94-2.06-.94-.94-2.06-.94 2.06-2.06.94z\"/><path d=\"M17.41 7.96l-1.37-1.37c-.4-.4-.92-.59-1.43-.59-.52 0-1.04.2-1.43.59L10.3 9.45l-7.72 7.72c-.78.78-.78 2.05 0 2.83L4 21.41c.39.39.9.59 1.41.59.51 0 1.02-.2 1.41-.59l7.78-7.78 2.81-2.81c.8-.78.8-2.07 0-2.86zM5.41 20L4 18.59l7.72-7.72 1.47 1.35L5.41 20z\"/>\n",
              "  </svg>\n",
              "      </button>\n",
              "      \n",
              "  <style>\n",
              "    .colab-df-container {\n",
              "      display:flex;\n",
              "      flex-wrap:wrap;\n",
              "      gap: 12px;\n",
              "    }\n",
              "\n",
              "    .colab-df-convert {\n",
              "      background-color: #E8F0FE;\n",
              "      border: none;\n",
              "      border-radius: 50%;\n",
              "      cursor: pointer;\n",
              "      display: none;\n",
              "      fill: #1967D2;\n",
              "      height: 32px;\n",
              "      padding: 0 0 0 0;\n",
              "      width: 32px;\n",
              "    }\n",
              "\n",
              "    .colab-df-convert:hover {\n",
              "      background-color: #E2EBFA;\n",
              "      box-shadow: 0px 1px 2px rgba(60, 64, 67, 0.3), 0px 1px 3px 1px rgba(60, 64, 67, 0.15);\n",
              "      fill: #174EA6;\n",
              "    }\n",
              "\n",
              "    [theme=dark] .colab-df-convert {\n",
              "      background-color: #3B4455;\n",
              "      fill: #D2E3FC;\n",
              "    }\n",
              "\n",
              "    [theme=dark] .colab-df-convert:hover {\n",
              "      background-color: #434B5C;\n",
              "      box-shadow: 0px 1px 3px 1px rgba(0, 0, 0, 0.15);\n",
              "      filter: drop-shadow(0px 1px 2px rgba(0, 0, 0, 0.3));\n",
              "      fill: #FFFFFF;\n",
              "    }\n",
              "  </style>\n",
              "\n",
              "      <script>\n",
              "        const buttonEl =\n",
              "          document.querySelector('#df-a7f9303f-92f8-4909-8324-9f4566959dd1 button.colab-df-convert');\n",
              "        buttonEl.style.display =\n",
              "          google.colab.kernel.accessAllowed ? 'block' : 'none';\n",
              "\n",
              "        async function convertToInteractive(key) {\n",
              "          const element = document.querySelector('#df-a7f9303f-92f8-4909-8324-9f4566959dd1');\n",
              "          const dataTable =\n",
              "            await google.colab.kernel.invokeFunction('convertToInteractive',\n",
              "                                                     [key], {});\n",
              "          if (!dataTable) return;\n",
              "\n",
              "          const docLinkHtml = 'Like what you see? Visit the ' +\n",
              "            '<a target=\"_blank\" href=https://colab.research.google.com/notebooks/data_table.ipynb>data table notebook</a>'\n",
              "            + ' to learn more about interactive tables.';\n",
              "          element.innerHTML = '';\n",
              "          dataTable['output_type'] = 'display_data';\n",
              "          await google.colab.output.renderOutput(dataTable, element);\n",
              "          const docLink = document.createElement('div');\n",
              "          docLink.innerHTML = docLinkHtml;\n",
              "          element.appendChild(docLink);\n",
              "        }\n",
              "      </script>\n",
              "    </div>\n",
              "  </div>\n",
              "  "
            ]
          },
          "metadata": {},
          "execution_count": 262
        }
      ]
    },
    {
      "cell_type": "code",
      "source": [
        "stat, p = stats.normaltest(df_update.meters)\n",
        "print('Statistics=%.3f, p=%.3f' % (stat, p))\n",
        "alpha = 0.05\n",
        "if p > alpha:\n",
        "    print('Data looks Gaussian (fail to reject H0)')\n",
        "else:\n",
        "    print('Data does not look Gaussian (reject H0)')"
      ],
      "metadata": {
        "colab": {
          "base_uri": "https://localhost:8080/"
        },
        "id": "yLTFo2ZXxkBq",
        "outputId": "b478b2c8-98a2-4ba4-a864-6d1030ae1aa5"
      },
      "execution_count": 263,
      "outputs": [
        {
          "output_type": "stream",
          "name": "stdout",
          "text": [
            "Statistics=6837.796, p=0.000\n",
            "Data does not look Gaussian (reject H0)\n"
          ]
        }
      ]
    },
    {
      "cell_type": "code",
      "source": [
        "sns.distplot(df_update.meters);\n",
        "print( 'Kurtosis of normal distribution: {}'.format(stats.kurtosis(df_update.meters)))\n",
        "print( 'Skewness of normal distribution: {}'.format(stats.skew(df_update.meters)))"
      ],
      "metadata": {
        "colab": {
          "base_uri": "https://localhost:8080/",
          "height": 319
        },
        "id": "qsdV15rmxrVn",
        "outputId": "68f1ad0a-58b3-453c-bc58-0d7e73dcc7fe"
      },
      "execution_count": 264,
      "outputs": [
        {
          "output_type": "stream",
          "name": "stdout",
          "text": [
            "Kurtosis of normal distribution: -1.4740191352184537\n",
            "Skewness of normal distribution: -0.17238728218291083\n"
          ]
        },
        {
          "output_type": "display_data",
          "data": {
            "text/plain": [
              "<Figure size 432x288 with 1 Axes>"
            ],
            "image/png": "[encoded data removed]"
          },
          "metadata": {
            "needs_background": "light"
          }
        }
      ]
    },
    {
      "cell_type": "code",
      "source": [
        "dfspec=df_update.loc[:,['date_time','meters']]\n",
        "dfspec.set_index('date_time',inplace=True)\n",
        "dfspec.plot(figsize=(12,5))\n",
        "plt.ylabel('Altitude')\n",
        "plt.legend().set_visible(False)\n",
        "plt.tight_layout()\n",
        "plt.title('Altitude Time Series')\n",
        "sns.despine(top=True)\n",
        "plt.show();"
      ],
      "metadata": {
        "colab": {
          "base_uri": "https://localhost:8080/",
          "height": 385
        },
        "id": "JmLRmKMRxwZS",
        "outputId": "2b1a7f38-5767-4017-b3bb-7db84b0e856e"
      },
      "execution_count": 265,
      "outputs": [
        {
          "output_type": "display_data",
          "data": {
            "text/plain": [
              "<Figure size 864x360 with 1 Axes>"
            ],
            "image/png": "[encoded data removed]"
          },
          "metadata": {
            "needs_background": "light"
          }
        }
      ]
    },
    {
      "cell_type": "code",
      "source": [
        "df2=df_update.copy()\n",
        "def test_stationarity(timeseries):\n",
        "    rolmean = timeseries.rolling(window=30).mean()\n",
        "    rolstd = timeseries.rolling(window=30).std()\n",
        "    \n",
        "    plt.figure(figsize=(14,5))\n",
        "    sns.despine(left=True)\n",
        "    orig = plt.plot(timeseries, color='blue',label='Original')\n",
        "    mean = plt.plot(rolmean, color='red', label='Rolling Mean')\n",
        "    std = plt.plot(rolstd, color='black', label = 'Rolling Std')\n",
        "\n",
        "    plt.legend(loc='best'); plt.title('Rolling Mean & Standard Deviation')\n",
        "    plt.show()\n",
        "    \n",
        "    print ('<Results of Dickey-Fuller Test>')\n",
        "    dftest = adfuller(timeseries, autolag='AIC')\n",
        "    dfoutput = pd.Series(dftest[0:4],\n",
        "                         index=['Test Statistic','p-value','#Lags Used','Number of Observations Used'])\n",
        "    for key,value in dftest[4].items():\n",
        "        dfoutput['Critical Value (%s)'%key] = value\n",
        "    print(dfoutput)\n",
        "test_stationarity(df2.meters)"
      ],
      "metadata": {
        "colab": {
          "base_uri": "https://localhost:8080/",
          "height": 493
        },
        "id": "X13gu_Wix3mx",
        "outputId": "b4340410-465a-455f-ff36-8bfc08db5b4b"
      },
      "execution_count": 266,
      "outputs": [
        {
          "output_type": "display_data",
          "data": {
            "text/plain": [
              "<Figure size 1008x360 with 1 Axes>"
            ],
            "image/png": "[encoded data removed]"
          },
          "metadata": {
            "needs_background": "light"
          }
        },
        {
          "output_type": "stream",
          "name": "stdout",
          "text": [
            "<Results of Dickey-Fuller Test>\n",
            "Test Statistic                 -4.5202\n",
            "p-value                         0.0002\n",
            "#Lags Used                      4.0000\n",
            "Number of Observations Used   815.0000\n",
            "Critical Value (1%)            -3.4384\n",
            "Critical Value (5%)            -2.8651\n",
            "Critical Value (10%)           -2.5687\n",
            "dtype: float64\n"
          ]
        }
      ]
    },
    {
      "cell_type": "code",
      "source": [
        "dataset = df_update.meters.values #numpy.ndarray\n",
        "dataset = dataset.astype('float32')\n",
        "dataset = np.reshape(dataset, (-1, 1))\n",
        "scaler = MinMaxScaler(feature_range=(0, 1))\n",
        "dataset = scaler.fit_transform(dataset)\n",
        "test_size = dataframelist[-1].shape[0]\n",
        "train_size = len(dataset) - test_size\n",
        "train, test = dataset[:train_size,:], dataset[train_size:,:]\n",
        "\n",
        "def create_dataset(dataset, look_back, look_ahead):\n",
        "    X, Y = [], []\n",
        "    for i in range(len(dataset)-look_back-look_ahead):\n",
        "        a = dataset[i:(i+look_back), 0]\n",
        "        X.append(a)\n",
        "        Y.append(dataset[i + look_back + look_ahead - 1, 0])\n",
        "    return np.array(X), np.array(Y)\n",
        "    \n",
        "look_back = 5\n",
        "look_ahead = 1\n",
        "X_train, Y_train = create_dataset(train, look_back, look_ahead)\n",
        "X_test, Y_test = create_dataset(test, look_back, look_ahead)\n",
        "\n",
        "# reshape input to be [samples, time steps, features]\n",
        "X_train = np.reshape(X_train, (X_train.shape[0], 1, X_train.shape[1]))\n",
        "X_test = np.reshape(X_test, (X_test.shape[0], 1, X_test.shape[1]))"
      ],
      "metadata": {
        "id": "J-ytlh31yBlL"
      },
      "execution_count": 305,
      "outputs": []
    },
    {
      "cell_type": "code",
      "source": [
        "model = Sequential()\n",
        "model.add(LSTM(100, input_shape=(X_train.shape[1], X_train.shape[2])))\n",
        "model.add(Dropout(0.2))\n",
        "model.add(Dense(1))\n",
        "model.compile(loss='mean_squared_error', optimizer='adam')\n",
        "\n",
        "'''\n",
        "Note that Dickey-Fuller Test suggests the greatest amount of stochasticity for \n",
        "altitude, hence we should use a smaller batch_size or more epochs for higher\n",
        "accuracy when training, also ensuring validation loss is not increasing to\n",
        "avoid overfitting.\n",
        "''' \n",
        "\n",
        "\n",
        "history = model.fit(X_train, Y_train, epochs=15, batch_size=16, validation_data=(X_test, Y_test), \n",
        "                    callbacks=[EarlyStopping(monitor='val_loss', patience=5)], verbose=1, shuffle=False)\n",
        "\n",
        "model.summary()"
      ],
      "metadata": {
        "colab": {
          "base_uri": "https://localhost:8080/"
        },
        "id": "whLMUBHOyMIf",
        "outputId": "c5211e8a-66fe-4235-e083-0700671b2f8d"
      },
      "execution_count": 306,
      "outputs": [
        {
          "output_type": "stream",
          "name": "stdout",
          "text": [
            "Epoch 1/15\n",
            "39/39 [==============================] - 5s 29ms/step - loss: 0.2272 - val_loss: 0.0341\n",
            "Epoch 2/15\n",
            "39/39 [==============================] - 0s 11ms/step - loss: 0.0167 - val_loss: 0.0056\n",
            "Epoch 3/15\n",
            "39/39 [==============================] - 0s 8ms/step - loss: 0.0078 - val_loss: 0.0040\n",
            "Epoch 4/15\n",
            "39/39 [==============================] - 0s 5ms/step - loss: 0.0068 - val_loss: 0.0030\n",
            "Epoch 5/15\n",
            "39/39 [==============================] - 0s 7ms/step - loss: 0.0056 - val_loss: 0.0024\n",
            "Epoch 6/15\n",
            "39/39 [==============================] - 0s 5ms/step - loss: 0.0048 - val_loss: 0.0020\n",
            "Epoch 7/15\n",
            "39/39 [==============================] - 0s 5ms/step - loss: 0.0045 - val_loss: 0.0016\n",
            "Epoch 8/15\n",
            "39/39 [==============================] - 0s 7ms/step - loss: 0.0040 - val_loss: 0.0018\n",
            "Epoch 9/15\n",
            "39/39 [==============================] - 0s 7ms/step - loss: 0.0042 - val_loss: 0.0014\n",
            "Epoch 10/15\n",
            "39/39 [==============================] - 0s 7ms/step - loss: 0.0040 - val_loss: 0.0014\n",
            "Epoch 11/15\n",
            "39/39 [==============================] - 0s 6ms/step - loss: 0.0038 - val_loss: 0.0015\n",
            "Epoch 12/15\n",
            "39/39 [==============================] - 0s 6ms/step - loss: 0.0038 - val_loss: 0.0013\n",
            "Epoch 13/15\n",
            "39/39 [==============================] - 0s 6ms/step - loss: 0.0038 - val_loss: 0.0012\n",
            "Epoch 14/15\n",
            "39/39 [==============================] - 0s 5ms/step - loss: 0.0036 - val_loss: 0.0012\n",
            "Epoch 15/15\n",
            "39/39 [==============================] - 0s 6ms/step - loss: 0.0037 - val_loss: 0.0014\n",
            "Model: \"sequential_44\"\n",
            "_________________________________________________________________\n",
            " Layer (type)                Output Shape              Param #   \n",
            "=================================================================\n",
            " lstm_44 (LSTM)              (None, 100)               42400     \n",
            "                                                                 \n",
            " dropout_44 (Dropout)        (None, 100)               0         \n",
            "                                                                 \n",
            " dense_44 (Dense)            (None, 1)                 101       \n",
            "                                                                 \n",
            "=================================================================\n",
            "Total params: 42,501\n",
            "Trainable params: 42,501\n",
            "Non-trainable params: 0\n",
            "_________________________________________________________________\n"
          ]
        }
      ]
    },
    {
      "cell_type": "code",
      "source": [
        "train_predict = model.predict(X_train)\n",
        "test_predict = model.predict(X_test)\n",
        "# invert predictions\n",
        "train_predict = scaler.inverse_transform(train_predict)\n",
        "Y_train = scaler.inverse_transform([Y_train])\n",
        "test_predict = scaler.inverse_transform(test_predict)\n",
        "Y_test = scaler.inverse_transform([Y_test])\n",
        "print('Train Mean Absolute Error:', mean_absolute_error(Y_train[0], train_predict[:,0]))\n",
        "print('Train Root Mean Squared Error:',np.sqrt(mean_squared_error(Y_train[0], train_predict[:,0])))\n",
        "print('Test Mean Absolute Error:', mean_absolute_error(Y_test[0], test_predict[:,0]))\n",
        "print('Test Root Mean Squared Error:',np.sqrt(mean_squared_error(Y_test[0], test_predict[:,0])))"
      ],
      "metadata": {
        "colab": {
          "base_uri": "https://localhost:8080/"
        },
        "id": "yYaJo0-4yQ3p",
        "outputId": "70d41a09-aa82-4c16-80bc-932aeae3d02b"
      },
      "execution_count": 307,
      "outputs": [
        {
          "output_type": "stream",
          "name": "stdout",
          "text": [
            "20/20 [==============================] - 1s 2ms/step\n",
            "7/7 [==============================] - 0s 3ms/step\n",
            "Train Mean Absolute Error: 371.9035032142973\n",
            "Train Root Mean Squared Error: 495.4816369354747\n",
            "Test Mean Absolute Error: 258.2453976834592\n",
            "Test Root Mean Squared Error: 409.3650196059299\n"
          ]
        }
      ]
    },
    {
      "cell_type": "code",
      "source": [
        "plt.figure(figsize=(8,4))\n",
        "plt.plot(history.history['loss'], label='Train Loss')\n",
        "plt.plot(history.history['val_loss'], label='Test Loss')\n",
        "plt.title('model loss')\n",
        "plt.ylabel('loss')\n",
        "plt.xlabel('epochs')\n",
        "plt.legend(loc='upper right')\n",
        "plt.show();"
      ],
      "metadata": {
        "colab": {
          "base_uri": "https://localhost:8080/",
          "height": 300
        },
        "id": "6ASJ0QUQyeWa",
        "outputId": "3e6e0fbb-242c-4b75-aba2-fd5997653e82"
      },
      "execution_count": 308,
      "outputs": [
        {
          "output_type": "display_data",
          "data": {
            "text/plain": [
              "<Figure size 576x288 with 1 Axes>"
            ],
            "image/png": "[encoded data removed]"
          },
          "metadata": {
            "needs_background": "light"
          }
        }
      ]
    },
    {
      "cell_type": "code",
      "source": [
        "aa=[x for x in range(Y_test.shape[1])]\n",
        "plt.figure(figsize=(8,4))\n",
        "plt.plot(aa, Y_test[0][:], marker='.', label=\"actual\")\n",
        "plt.plot(aa, test_predict[:][:,0], 'r', label=\"prediction\")\n",
        "# plt.tick_params(left=False, labelleft=True) #remove ticks\n",
        "plt.tight_layout()\n",
        "sns.despine(top=True)\n",
        "plt.subplots_adjust(left=0.07)\n",
        "plt.ylabel('Altitude', size=15)\n",
        "plt.xlabel('Time step', size=15)\n",
        "plt.legend(fontsize=10)\n",
        "plt.show();"
      ],
      "metadata": {
        "colab": {
          "base_uri": "https://localhost:8080/",
          "height": 316
        },
        "id": "6Dp5QF_Aykka",
        "outputId": "68960ee4-ee23-49e8-f78b-989f7bd680ea"
      },
      "execution_count": 309,
      "outputs": [
        {
          "output_type": "display_data",
          "data": {
            "text/plain": [
              "<Figure size 576x288 with 1 Axes>"
            ],
            "image/png": "[encoded data removed]"
          },
          "metadata": {
            "needs_background": "light"
          }
        }
      ]
    },
    {
      "cell_type": "code",
      "source": [],
      "metadata": {
        "id": "o48mA4PiyrsA"
      },
      "execution_count": null,
      "outputs": []
    }
  ]
}